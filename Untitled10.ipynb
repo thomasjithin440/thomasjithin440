{
  "nbformat": 4,
  "nbformat_minor": 0,
  "metadata": {
    "colab": {
      "provenance": [],
      "gpuType": "T4",
      "authorship_tag": "ABX9TyOfPBHv62HTU6w8u2Npw58f",
      "include_colab_link": true
    },
    "kernelspec": {
      "name": "python3",
      "display_name": "Python 3"
    },
    "language_info": {
      "name": "python"
    },
    "accelerator": "GPU",
    "widgets": {
      "application/vnd.jupyter.widget-state+json": {
        "d11b35a7e4584d15ae3b6c8c059d84e9": {
          "model_module": "@jupyter-widgets/controls",
          "model_name": "HBoxModel",
          "model_module_version": "1.5.0",
          "state": {
            "_dom_classes": [],
            "_model_module": "@jupyter-widgets/controls",
            "_model_module_version": "1.5.0",
            "_model_name": "HBoxModel",
            "_view_count": null,
            "_view_module": "@jupyter-widgets/controls",
            "_view_module_version": "1.5.0",
            "_view_name": "HBoxView",
            "box_style": "",
            "children": [
              "IPY_MODEL_1a43b7a53f72469e8499f17260e44979",
              "IPY_MODEL_b5352ef782664481ae7bfe1affcc26c4",
              "IPY_MODEL_266a06f6dfb340528b7e5178b341af6d"
            ],
            "layout": "IPY_MODEL_987a03f9e23c4b45839208c4b2db69fe"
          }
        },
        "1a43b7a53f72469e8499f17260e44979": {
          "model_module": "@jupyter-widgets/controls",
          "model_name": "HTMLModel",
          "model_module_version": "1.5.0",
          "state": {
            "_dom_classes": [],
            "_model_module": "@jupyter-widgets/controls",
            "_model_module_version": "1.5.0",
            "_model_name": "HTMLModel",
            "_view_count": null,
            "_view_module": "@jupyter-widgets/controls",
            "_view_module_version": "1.5.0",
            "_view_name": "HTMLView",
            "description": "",
            "description_tooltip": null,
            "layout": "IPY_MODEL_4189e462aff64b939a3ca82b341c60bd",
            "placeholder": "​",
            "style": "IPY_MODEL_a054fda2d2ef43c0a16446f59889a184",
            "value": "tokenizer_config.json: 100%"
          }
        },
        "b5352ef782664481ae7bfe1affcc26c4": {
          "model_module": "@jupyter-widgets/controls",
          "model_name": "FloatProgressModel",
          "model_module_version": "1.5.0",
          "state": {
            "_dom_classes": [],
            "_model_module": "@jupyter-widgets/controls",
            "_model_module_version": "1.5.0",
            "_model_name": "FloatProgressModel",
            "_view_count": null,
            "_view_module": "@jupyter-widgets/controls",
            "_view_module_version": "1.5.0",
            "_view_name": "ProgressView",
            "bar_style": "success",
            "description": "",
            "description_tooltip": null,
            "layout": "IPY_MODEL_6b59a36afe21410fa4f4131b60d7fa98",
            "max": 48,
            "min": 0,
            "orientation": "horizontal",
            "style": "IPY_MODEL_6c0cfd7eb93a4ac8ac295bf6ad02d8ca",
            "value": 48
          }
        },
        "266a06f6dfb340528b7e5178b341af6d": {
          "model_module": "@jupyter-widgets/controls",
          "model_name": "HTMLModel",
          "model_module_version": "1.5.0",
          "state": {
            "_dom_classes": [],
            "_model_module": "@jupyter-widgets/controls",
            "_model_module_version": "1.5.0",
            "_model_name": "HTMLModel",
            "_view_count": null,
            "_view_module": "@jupyter-widgets/controls",
            "_view_module_version": "1.5.0",
            "_view_name": "HTMLView",
            "description": "",
            "description_tooltip": null,
            "layout": "IPY_MODEL_4323143ce0394aaa81fb9af65a7e418e",
            "placeholder": "​",
            "style": "IPY_MODEL_c85bb40a332c41b7ab7b0961bff2ed1f",
            "value": " 48.0/48.0 [00:00&lt;00:00, 2.54kB/s]"
          }
        },
        "987a03f9e23c4b45839208c4b2db69fe": {
          "model_module": "@jupyter-widgets/base",
          "model_name": "LayoutModel",
          "model_module_version": "1.2.0",
          "state": {
            "_model_module": "@jupyter-widgets/base",
            "_model_module_version": "1.2.0",
            "_model_name": "LayoutModel",
            "_view_count": null,
            "_view_module": "@jupyter-widgets/base",
            "_view_module_version": "1.2.0",
            "_view_name": "LayoutView",
            "align_content": null,
            "align_items": null,
            "align_self": null,
            "border": null,
            "bottom": null,
            "display": null,
            "flex": null,
            "flex_flow": null,
            "grid_area": null,
            "grid_auto_columns": null,
            "grid_auto_flow": null,
            "grid_auto_rows": null,
            "grid_column": null,
            "grid_gap": null,
            "grid_row": null,
            "grid_template_areas": null,
            "grid_template_columns": null,
            "grid_template_rows": null,
            "height": null,
            "justify_content": null,
            "justify_items": null,
            "left": null,
            "margin": null,
            "max_height": null,
            "max_width": null,
            "min_height": null,
            "min_width": null,
            "object_fit": null,
            "object_position": null,
            "order": null,
            "overflow": null,
            "overflow_x": null,
            "overflow_y": null,
            "padding": null,
            "right": null,
            "top": null,
            "visibility": null,
            "width": null
          }
        },
        "4189e462aff64b939a3ca82b341c60bd": {
          "model_module": "@jupyter-widgets/base",
          "model_name": "LayoutModel",
          "model_module_version": "1.2.0",
          "state": {
            "_model_module": "@jupyter-widgets/base",
            "_model_module_version": "1.2.0",
            "_model_name": "LayoutModel",
            "_view_count": null,
            "_view_module": "@jupyter-widgets/base",
            "_view_module_version": "1.2.0",
            "_view_name": "LayoutView",
            "align_content": null,
            "align_items": null,
            "align_self": null,
            "border": null,
            "bottom": null,
            "display": null,
            "flex": null,
            "flex_flow": null,
            "grid_area": null,
            "grid_auto_columns": null,
            "grid_auto_flow": null,
            "grid_auto_rows": null,
            "grid_column": null,
            "grid_gap": null,
            "grid_row": null,
            "grid_template_areas": null,
            "grid_template_columns": null,
            "grid_template_rows": null,
            "height": null,
            "justify_content": null,
            "justify_items": null,
            "left": null,
            "margin": null,
            "max_height": null,
            "max_width": null,
            "min_height": null,
            "min_width": null,
            "object_fit": null,
            "object_position": null,
            "order": null,
            "overflow": null,
            "overflow_x": null,
            "overflow_y": null,
            "padding": null,
            "right": null,
            "top": null,
            "visibility": null,
            "width": null
          }
        },
        "a054fda2d2ef43c0a16446f59889a184": {
          "model_module": "@jupyter-widgets/controls",
          "model_name": "DescriptionStyleModel",
          "model_module_version": "1.5.0",
          "state": {
            "_model_module": "@jupyter-widgets/controls",
            "_model_module_version": "1.5.0",
            "_model_name": "DescriptionStyleModel",
            "_view_count": null,
            "_view_module": "@jupyter-widgets/base",
            "_view_module_version": "1.2.0",
            "_view_name": "StyleView",
            "description_width": ""
          }
        },
        "6b59a36afe21410fa4f4131b60d7fa98": {
          "model_module": "@jupyter-widgets/base",
          "model_name": "LayoutModel",
          "model_module_version": "1.2.0",
          "state": {
            "_model_module": "@jupyter-widgets/base",
            "_model_module_version": "1.2.0",
            "_model_name": "LayoutModel",
            "_view_count": null,
            "_view_module": "@jupyter-widgets/base",
            "_view_module_version": "1.2.0",
            "_view_name": "LayoutView",
            "align_content": null,
            "align_items": null,
            "align_self": null,
            "border": null,
            "bottom": null,
            "display": null,
            "flex": null,
            "flex_flow": null,
            "grid_area": null,
            "grid_auto_columns": null,
            "grid_auto_flow": null,
            "grid_auto_rows": null,
            "grid_column": null,
            "grid_gap": null,
            "grid_row": null,
            "grid_template_areas": null,
            "grid_template_columns": null,
            "grid_template_rows": null,
            "height": null,
            "justify_content": null,
            "justify_items": null,
            "left": null,
            "margin": null,
            "max_height": null,
            "max_width": null,
            "min_height": null,
            "min_width": null,
            "object_fit": null,
            "object_position": null,
            "order": null,
            "overflow": null,
            "overflow_x": null,
            "overflow_y": null,
            "padding": null,
            "right": null,
            "top": null,
            "visibility": null,
            "width": null
          }
        },
        "6c0cfd7eb93a4ac8ac295bf6ad02d8ca": {
          "model_module": "@jupyter-widgets/controls",
          "model_name": "ProgressStyleModel",
          "model_module_version": "1.5.0",
          "state": {
            "_model_module": "@jupyter-widgets/controls",
            "_model_module_version": "1.5.0",
            "_model_name": "ProgressStyleModel",
            "_view_count": null,
            "_view_module": "@jupyter-widgets/base",
            "_view_module_version": "1.2.0",
            "_view_name": "StyleView",
            "bar_color": null,
            "description_width": ""
          }
        },
        "4323143ce0394aaa81fb9af65a7e418e": {
          "model_module": "@jupyter-widgets/base",
          "model_name": "LayoutModel",
          "model_module_version": "1.2.0",
          "state": {
            "_model_module": "@jupyter-widgets/base",
            "_model_module_version": "1.2.0",
            "_model_name": "LayoutModel",
            "_view_count": null,
            "_view_module": "@jupyter-widgets/base",
            "_view_module_version": "1.2.0",
            "_view_name": "LayoutView",
            "align_content": null,
            "align_items": null,
            "align_self": null,
            "border": null,
            "bottom": null,
            "display": null,
            "flex": null,
            "flex_flow": null,
            "grid_area": null,
            "grid_auto_columns": null,
            "grid_auto_flow": null,
            "grid_auto_rows": null,
            "grid_column": null,
            "grid_gap": null,
            "grid_row": null,
            "grid_template_areas": null,
            "grid_template_columns": null,
            "grid_template_rows": null,
            "height": null,
            "justify_content": null,
            "justify_items": null,
            "left": null,
            "margin": null,
            "max_height": null,
            "max_width": null,
            "min_height": null,
            "min_width": null,
            "object_fit": null,
            "object_position": null,
            "order": null,
            "overflow": null,
            "overflow_x": null,
            "overflow_y": null,
            "padding": null,
            "right": null,
            "top": null,
            "visibility": null,
            "width": null
          }
        },
        "c85bb40a332c41b7ab7b0961bff2ed1f": {
          "model_module": "@jupyter-widgets/controls",
          "model_name": "DescriptionStyleModel",
          "model_module_version": "1.5.0",
          "state": {
            "_model_module": "@jupyter-widgets/controls",
            "_model_module_version": "1.5.0",
            "_model_name": "DescriptionStyleModel",
            "_view_count": null,
            "_view_module": "@jupyter-widgets/base",
            "_view_module_version": "1.2.0",
            "_view_name": "StyleView",
            "description_width": ""
          }
        },
        "9bfed28e1ba443b2a8347dde87e0b7bc": {
          "model_module": "@jupyter-widgets/controls",
          "model_name": "HBoxModel",
          "model_module_version": "1.5.0",
          "state": {
            "_dom_classes": [],
            "_model_module": "@jupyter-widgets/controls",
            "_model_module_version": "1.5.0",
            "_model_name": "HBoxModel",
            "_view_count": null,
            "_view_module": "@jupyter-widgets/controls",
            "_view_module_version": "1.5.0",
            "_view_name": "HBoxView",
            "box_style": "",
            "children": [
              "IPY_MODEL_c95c2d1ecb2c40069ee4648a59fe50fd",
              "IPY_MODEL_6175a0cae04845df8afef7f29efcb59c",
              "IPY_MODEL_83e865da6c3b426582c65b9439b14842"
            ],
            "layout": "IPY_MODEL_1d460b95ace944e0b090af75ea4a9a73"
          }
        },
        "c95c2d1ecb2c40069ee4648a59fe50fd": {
          "model_module": "@jupyter-widgets/controls",
          "model_name": "HTMLModel",
          "model_module_version": "1.5.0",
          "state": {
            "_dom_classes": [],
            "_model_module": "@jupyter-widgets/controls",
            "_model_module_version": "1.5.0",
            "_model_name": "HTMLModel",
            "_view_count": null,
            "_view_module": "@jupyter-widgets/controls",
            "_view_module_version": "1.5.0",
            "_view_name": "HTMLView",
            "description": "",
            "description_tooltip": null,
            "layout": "IPY_MODEL_1864565146264388aa9e98a5ced38373",
            "placeholder": "​",
            "style": "IPY_MODEL_729f677db0ff43e986bece529998ea8e",
            "value": "config.json: 100%"
          }
        },
        "6175a0cae04845df8afef7f29efcb59c": {
          "model_module": "@jupyter-widgets/controls",
          "model_name": "FloatProgressModel",
          "model_module_version": "1.5.0",
          "state": {
            "_dom_classes": [],
            "_model_module": "@jupyter-widgets/controls",
            "_model_module_version": "1.5.0",
            "_model_name": "FloatProgressModel",
            "_view_count": null,
            "_view_module": "@jupyter-widgets/controls",
            "_view_module_version": "1.5.0",
            "_view_name": "ProgressView",
            "bar_style": "success",
            "description": "",
            "description_tooltip": null,
            "layout": "IPY_MODEL_eacca7bb2b25439eb032229b48f36661",
            "max": 570,
            "min": 0,
            "orientation": "horizontal",
            "style": "IPY_MODEL_540ad9ce38644c189c7deb9eb1981067",
            "value": 570
          }
        },
        "83e865da6c3b426582c65b9439b14842": {
          "model_module": "@jupyter-widgets/controls",
          "model_name": "HTMLModel",
          "model_module_version": "1.5.0",
          "state": {
            "_dom_classes": [],
            "_model_module": "@jupyter-widgets/controls",
            "_model_module_version": "1.5.0",
            "_model_name": "HTMLModel",
            "_view_count": null,
            "_view_module": "@jupyter-widgets/controls",
            "_view_module_version": "1.5.0",
            "_view_name": "HTMLView",
            "description": "",
            "description_tooltip": null,
            "layout": "IPY_MODEL_909c7a554fa443248e4971b6bb126a2f",
            "placeholder": "​",
            "style": "IPY_MODEL_f264af0c2c3747238840ca5fafffe184",
            "value": " 570/570 [00:00&lt;00:00, 43.2kB/s]"
          }
        },
        "1d460b95ace944e0b090af75ea4a9a73": {
          "model_module": "@jupyter-widgets/base",
          "model_name": "LayoutModel",
          "model_module_version": "1.2.0",
          "state": {
            "_model_module": "@jupyter-widgets/base",
            "_model_module_version": "1.2.0",
            "_model_name": "LayoutModel",
            "_view_count": null,
            "_view_module": "@jupyter-widgets/base",
            "_view_module_version": "1.2.0",
            "_view_name": "LayoutView",
            "align_content": null,
            "align_items": null,
            "align_self": null,
            "border": null,
            "bottom": null,
            "display": null,
            "flex": null,
            "flex_flow": null,
            "grid_area": null,
            "grid_auto_columns": null,
            "grid_auto_flow": null,
            "grid_auto_rows": null,
            "grid_column": null,
            "grid_gap": null,
            "grid_row": null,
            "grid_template_areas": null,
            "grid_template_columns": null,
            "grid_template_rows": null,
            "height": null,
            "justify_content": null,
            "justify_items": null,
            "left": null,
            "margin": null,
            "max_height": null,
            "max_width": null,
            "min_height": null,
            "min_width": null,
            "object_fit": null,
            "object_position": null,
            "order": null,
            "overflow": null,
            "overflow_x": null,
            "overflow_y": null,
            "padding": null,
            "right": null,
            "top": null,
            "visibility": null,
            "width": null
          }
        },
        "1864565146264388aa9e98a5ced38373": {
          "model_module": "@jupyter-widgets/base",
          "model_name": "LayoutModel",
          "model_module_version": "1.2.0",
          "state": {
            "_model_module": "@jupyter-widgets/base",
            "_model_module_version": "1.2.0",
            "_model_name": "LayoutModel",
            "_view_count": null,
            "_view_module": "@jupyter-widgets/base",
            "_view_module_version": "1.2.0",
            "_view_name": "LayoutView",
            "align_content": null,
            "align_items": null,
            "align_self": null,
            "border": null,
            "bottom": null,
            "display": null,
            "flex": null,
            "flex_flow": null,
            "grid_area": null,
            "grid_auto_columns": null,
            "grid_auto_flow": null,
            "grid_auto_rows": null,
            "grid_column": null,
            "grid_gap": null,
            "grid_row": null,
            "grid_template_areas": null,
            "grid_template_columns": null,
            "grid_template_rows": null,
            "height": null,
            "justify_content": null,
            "justify_items": null,
            "left": null,
            "margin": null,
            "max_height": null,
            "max_width": null,
            "min_height": null,
            "min_width": null,
            "object_fit": null,
            "object_position": null,
            "order": null,
            "overflow": null,
            "overflow_x": null,
            "overflow_y": null,
            "padding": null,
            "right": null,
            "top": null,
            "visibility": null,
            "width": null
          }
        },
        "729f677db0ff43e986bece529998ea8e": {
          "model_module": "@jupyter-widgets/controls",
          "model_name": "DescriptionStyleModel",
          "model_module_version": "1.5.0",
          "state": {
            "_model_module": "@jupyter-widgets/controls",
            "_model_module_version": "1.5.0",
            "_model_name": "DescriptionStyleModel",
            "_view_count": null,
            "_view_module": "@jupyter-widgets/base",
            "_view_module_version": "1.2.0",
            "_view_name": "StyleView",
            "description_width": ""
          }
        },
        "eacca7bb2b25439eb032229b48f36661": {
          "model_module": "@jupyter-widgets/base",
          "model_name": "LayoutModel",
          "model_module_version": "1.2.0",
          "state": {
            "_model_module": "@jupyter-widgets/base",
            "_model_module_version": "1.2.0",
            "_model_name": "LayoutModel",
            "_view_count": null,
            "_view_module": "@jupyter-widgets/base",
            "_view_module_version": "1.2.0",
            "_view_name": "LayoutView",
            "align_content": null,
            "align_items": null,
            "align_self": null,
            "border": null,
            "bottom": null,
            "display": null,
            "flex": null,
            "flex_flow": null,
            "grid_area": null,
            "grid_auto_columns": null,
            "grid_auto_flow": null,
            "grid_auto_rows": null,
            "grid_column": null,
            "grid_gap": null,
            "grid_row": null,
            "grid_template_areas": null,
            "grid_template_columns": null,
            "grid_template_rows": null,
            "height": null,
            "justify_content": null,
            "justify_items": null,
            "left": null,
            "margin": null,
            "max_height": null,
            "max_width": null,
            "min_height": null,
            "min_width": null,
            "object_fit": null,
            "object_position": null,
            "order": null,
            "overflow": null,
            "overflow_x": null,
            "overflow_y": null,
            "padding": null,
            "right": null,
            "top": null,
            "visibility": null,
            "width": null
          }
        },
        "540ad9ce38644c189c7deb9eb1981067": {
          "model_module": "@jupyter-widgets/controls",
          "model_name": "ProgressStyleModel",
          "model_module_version": "1.5.0",
          "state": {
            "_model_module": "@jupyter-widgets/controls",
            "_model_module_version": "1.5.0",
            "_model_name": "ProgressStyleModel",
            "_view_count": null,
            "_view_module": "@jupyter-widgets/base",
            "_view_module_version": "1.2.0",
            "_view_name": "StyleView",
            "bar_color": null,
            "description_width": ""
          }
        },
        "909c7a554fa443248e4971b6bb126a2f": {
          "model_module": "@jupyter-widgets/base",
          "model_name": "LayoutModel",
          "model_module_version": "1.2.0",
          "state": {
            "_model_module": "@jupyter-widgets/base",
            "_model_module_version": "1.2.0",
            "_model_name": "LayoutModel",
            "_view_count": null,
            "_view_module": "@jupyter-widgets/base",
            "_view_module_version": "1.2.0",
            "_view_name": "LayoutView",
            "align_content": null,
            "align_items": null,
            "align_self": null,
            "border": null,
            "bottom": null,
            "display": null,
            "flex": null,
            "flex_flow": null,
            "grid_area": null,
            "grid_auto_columns": null,
            "grid_auto_flow": null,
            "grid_auto_rows": null,
            "grid_column": null,
            "grid_gap": null,
            "grid_row": null,
            "grid_template_areas": null,
            "grid_template_columns": null,
            "grid_template_rows": null,
            "height": null,
            "justify_content": null,
            "justify_items": null,
            "left": null,
            "margin": null,
            "max_height": null,
            "max_width": null,
            "min_height": null,
            "min_width": null,
            "object_fit": null,
            "object_position": null,
            "order": null,
            "overflow": null,
            "overflow_x": null,
            "overflow_y": null,
            "padding": null,
            "right": null,
            "top": null,
            "visibility": null,
            "width": null
          }
        },
        "f264af0c2c3747238840ca5fafffe184": {
          "model_module": "@jupyter-widgets/controls",
          "model_name": "DescriptionStyleModel",
          "model_module_version": "1.5.0",
          "state": {
            "_model_module": "@jupyter-widgets/controls",
            "_model_module_version": "1.5.0",
            "_model_name": "DescriptionStyleModel",
            "_view_count": null,
            "_view_module": "@jupyter-widgets/base",
            "_view_module_version": "1.2.0",
            "_view_name": "StyleView",
            "description_width": ""
          }
        },
        "45093557b3bd4f0489c3e73e858ef978": {
          "model_module": "@jupyter-widgets/controls",
          "model_name": "HBoxModel",
          "model_module_version": "1.5.0",
          "state": {
            "_dom_classes": [],
            "_model_module": "@jupyter-widgets/controls",
            "_model_module_version": "1.5.0",
            "_model_name": "HBoxModel",
            "_view_count": null,
            "_view_module": "@jupyter-widgets/controls",
            "_view_module_version": "1.5.0",
            "_view_name": "HBoxView",
            "box_style": "",
            "children": [
              "IPY_MODEL_b04420495a7c476280e19b05af70a704",
              "IPY_MODEL_b95c5ea734bf438d97ee15119d6e0f82",
              "IPY_MODEL_c7bf9cedb3144126a88b66b17cc89b9a"
            ],
            "layout": "IPY_MODEL_b578dfc8b4e546518ca6d9dd4e759d69"
          }
        },
        "b04420495a7c476280e19b05af70a704": {
          "model_module": "@jupyter-widgets/controls",
          "model_name": "HTMLModel",
          "model_module_version": "1.5.0",
          "state": {
            "_dom_classes": [],
            "_model_module": "@jupyter-widgets/controls",
            "_model_module_version": "1.5.0",
            "_model_name": "HTMLModel",
            "_view_count": null,
            "_view_module": "@jupyter-widgets/controls",
            "_view_module_version": "1.5.0",
            "_view_name": "HTMLView",
            "description": "",
            "description_tooltip": null,
            "layout": "IPY_MODEL_67fbbf6af0c84a7a9d95e6c4f232dac0",
            "placeholder": "​",
            "style": "IPY_MODEL_c04bb9cff00b4222a55ef0c57304e8ce",
            "value": "vocab.txt: 100%"
          }
        },
        "b95c5ea734bf438d97ee15119d6e0f82": {
          "model_module": "@jupyter-widgets/controls",
          "model_name": "FloatProgressModel",
          "model_module_version": "1.5.0",
          "state": {
            "_dom_classes": [],
            "_model_module": "@jupyter-widgets/controls",
            "_model_module_version": "1.5.0",
            "_model_name": "FloatProgressModel",
            "_view_count": null,
            "_view_module": "@jupyter-widgets/controls",
            "_view_module_version": "1.5.0",
            "_view_name": "ProgressView",
            "bar_style": "success",
            "description": "",
            "description_tooltip": null,
            "layout": "IPY_MODEL_8aeb9dd66fd14380a922f7728aff2505",
            "max": 231508,
            "min": 0,
            "orientation": "horizontal",
            "style": "IPY_MODEL_f7893da28af04541a37377f843dd8c84",
            "value": 231508
          }
        },
        "c7bf9cedb3144126a88b66b17cc89b9a": {
          "model_module": "@jupyter-widgets/controls",
          "model_name": "HTMLModel",
          "model_module_version": "1.5.0",
          "state": {
            "_dom_classes": [],
            "_model_module": "@jupyter-widgets/controls",
            "_model_module_version": "1.5.0",
            "_model_name": "HTMLModel",
            "_view_count": null,
            "_view_module": "@jupyter-widgets/controls",
            "_view_module_version": "1.5.0",
            "_view_name": "HTMLView",
            "description": "",
            "description_tooltip": null,
            "layout": "IPY_MODEL_0551ca4b4d7344ac97526f40b226f460",
            "placeholder": "​",
            "style": "IPY_MODEL_97b756757b0b4acb928fe81748a0c82c",
            "value": " 232k/232k [00:00&lt;00:00, 6.73MB/s]"
          }
        },
        "b578dfc8b4e546518ca6d9dd4e759d69": {
          "model_module": "@jupyter-widgets/base",
          "model_name": "LayoutModel",
          "model_module_version": "1.2.0",
          "state": {
            "_model_module": "@jupyter-widgets/base",
            "_model_module_version": "1.2.0",
            "_model_name": "LayoutModel",
            "_view_count": null,
            "_view_module": "@jupyter-widgets/base",
            "_view_module_version": "1.2.0",
            "_view_name": "LayoutView",
            "align_content": null,
            "align_items": null,
            "align_self": null,
            "border": null,
            "bottom": null,
            "display": null,
            "flex": null,
            "flex_flow": null,
            "grid_area": null,
            "grid_auto_columns": null,
            "grid_auto_flow": null,
            "grid_auto_rows": null,
            "grid_column": null,
            "grid_gap": null,
            "grid_row": null,
            "grid_template_areas": null,
            "grid_template_columns": null,
            "grid_template_rows": null,
            "height": null,
            "justify_content": null,
            "justify_items": null,
            "left": null,
            "margin": null,
            "max_height": null,
            "max_width": null,
            "min_height": null,
            "min_width": null,
            "object_fit": null,
            "object_position": null,
            "order": null,
            "overflow": null,
            "overflow_x": null,
            "overflow_y": null,
            "padding": null,
            "right": null,
            "top": null,
            "visibility": null,
            "width": null
          }
        },
        "67fbbf6af0c84a7a9d95e6c4f232dac0": {
          "model_module": "@jupyter-widgets/base",
          "model_name": "LayoutModel",
          "model_module_version": "1.2.0",
          "state": {
            "_model_module": "@jupyter-widgets/base",
            "_model_module_version": "1.2.0",
            "_model_name": "LayoutModel",
            "_view_count": null,
            "_view_module": "@jupyter-widgets/base",
            "_view_module_version": "1.2.0",
            "_view_name": "LayoutView",
            "align_content": null,
            "align_items": null,
            "align_self": null,
            "border": null,
            "bottom": null,
            "display": null,
            "flex": null,
            "flex_flow": null,
            "grid_area": null,
            "grid_auto_columns": null,
            "grid_auto_flow": null,
            "grid_auto_rows": null,
            "grid_column": null,
            "grid_gap": null,
            "grid_row": null,
            "grid_template_areas": null,
            "grid_template_columns": null,
            "grid_template_rows": null,
            "height": null,
            "justify_content": null,
            "justify_items": null,
            "left": null,
            "margin": null,
            "max_height": null,
            "max_width": null,
            "min_height": null,
            "min_width": null,
            "object_fit": null,
            "object_position": null,
            "order": null,
            "overflow": null,
            "overflow_x": null,
            "overflow_y": null,
            "padding": null,
            "right": null,
            "top": null,
            "visibility": null,
            "width": null
          }
        },
        "c04bb9cff00b4222a55ef0c57304e8ce": {
          "model_module": "@jupyter-widgets/controls",
          "model_name": "DescriptionStyleModel",
          "model_module_version": "1.5.0",
          "state": {
            "_model_module": "@jupyter-widgets/controls",
            "_model_module_version": "1.5.0",
            "_model_name": "DescriptionStyleModel",
            "_view_count": null,
            "_view_module": "@jupyter-widgets/base",
            "_view_module_version": "1.2.0",
            "_view_name": "StyleView",
            "description_width": ""
          }
        },
        "8aeb9dd66fd14380a922f7728aff2505": {
          "model_module": "@jupyter-widgets/base",
          "model_name": "LayoutModel",
          "model_module_version": "1.2.0",
          "state": {
            "_model_module": "@jupyter-widgets/base",
            "_model_module_version": "1.2.0",
            "_model_name": "LayoutModel",
            "_view_count": null,
            "_view_module": "@jupyter-widgets/base",
            "_view_module_version": "1.2.0",
            "_view_name": "LayoutView",
            "align_content": null,
            "align_items": null,
            "align_self": null,
            "border": null,
            "bottom": null,
            "display": null,
            "flex": null,
            "flex_flow": null,
            "grid_area": null,
            "grid_auto_columns": null,
            "grid_auto_flow": null,
            "grid_auto_rows": null,
            "grid_column": null,
            "grid_gap": null,
            "grid_row": null,
            "grid_template_areas": null,
            "grid_template_columns": null,
            "grid_template_rows": null,
            "height": null,
            "justify_content": null,
            "justify_items": null,
            "left": null,
            "margin": null,
            "max_height": null,
            "max_width": null,
            "min_height": null,
            "min_width": null,
            "object_fit": null,
            "object_position": null,
            "order": null,
            "overflow": null,
            "overflow_x": null,
            "overflow_y": null,
            "padding": null,
            "right": null,
            "top": null,
            "visibility": null,
            "width": null
          }
        },
        "f7893da28af04541a37377f843dd8c84": {
          "model_module": "@jupyter-widgets/controls",
          "model_name": "ProgressStyleModel",
          "model_module_version": "1.5.0",
          "state": {
            "_model_module": "@jupyter-widgets/controls",
            "_model_module_version": "1.5.0",
            "_model_name": "ProgressStyleModel",
            "_view_count": null,
            "_view_module": "@jupyter-widgets/base",
            "_view_module_version": "1.2.0",
            "_view_name": "StyleView",
            "bar_color": null,
            "description_width": ""
          }
        },
        "0551ca4b4d7344ac97526f40b226f460": {
          "model_module": "@jupyter-widgets/base",
          "model_name": "LayoutModel",
          "model_module_version": "1.2.0",
          "state": {
            "_model_module": "@jupyter-widgets/base",
            "_model_module_version": "1.2.0",
            "_model_name": "LayoutModel",
            "_view_count": null,
            "_view_module": "@jupyter-widgets/base",
            "_view_module_version": "1.2.0",
            "_view_name": "LayoutView",
            "align_content": null,
            "align_items": null,
            "align_self": null,
            "border": null,
            "bottom": null,
            "display": null,
            "flex": null,
            "flex_flow": null,
            "grid_area": null,
            "grid_auto_columns": null,
            "grid_auto_flow": null,
            "grid_auto_rows": null,
            "grid_column": null,
            "grid_gap": null,
            "grid_row": null,
            "grid_template_areas": null,
            "grid_template_columns": null,
            "grid_template_rows": null,
            "height": null,
            "justify_content": null,
            "justify_items": null,
            "left": null,
            "margin": null,
            "max_height": null,
            "max_width": null,
            "min_height": null,
            "min_width": null,
            "object_fit": null,
            "object_position": null,
            "order": null,
            "overflow": null,
            "overflow_x": null,
            "overflow_y": null,
            "padding": null,
            "right": null,
            "top": null,
            "visibility": null,
            "width": null
          }
        },
        "97b756757b0b4acb928fe81748a0c82c": {
          "model_module": "@jupyter-widgets/controls",
          "model_name": "DescriptionStyleModel",
          "model_module_version": "1.5.0",
          "state": {
            "_model_module": "@jupyter-widgets/controls",
            "_model_module_version": "1.5.0",
            "_model_name": "DescriptionStyleModel",
            "_view_count": null,
            "_view_module": "@jupyter-widgets/base",
            "_view_module_version": "1.2.0",
            "_view_name": "StyleView",
            "description_width": ""
          }
        },
        "613d9d486a384028a21d0ab4fb69fd71": {
          "model_module": "@jupyter-widgets/controls",
          "model_name": "HBoxModel",
          "model_module_version": "1.5.0",
          "state": {
            "_dom_classes": [],
            "_model_module": "@jupyter-widgets/controls",
            "_model_module_version": "1.5.0",
            "_model_name": "HBoxModel",
            "_view_count": null,
            "_view_module": "@jupyter-widgets/controls",
            "_view_module_version": "1.5.0",
            "_view_name": "HBoxView",
            "box_style": "",
            "children": [
              "IPY_MODEL_eadf24d924bc4dafb25d7d0ec06954e6",
              "IPY_MODEL_73fe2e0cd39444269e75da1d1f7ce69e",
              "IPY_MODEL_62713e86ba5147388860ab75ee3bd9e5"
            ],
            "layout": "IPY_MODEL_1c8e749a50b0449aaccde64876f2215d"
          }
        },
        "eadf24d924bc4dafb25d7d0ec06954e6": {
          "model_module": "@jupyter-widgets/controls",
          "model_name": "HTMLModel",
          "model_module_version": "1.5.0",
          "state": {
            "_dom_classes": [],
            "_model_module": "@jupyter-widgets/controls",
            "_model_module_version": "1.5.0",
            "_model_name": "HTMLModel",
            "_view_count": null,
            "_view_module": "@jupyter-widgets/controls",
            "_view_module_version": "1.5.0",
            "_view_name": "HTMLView",
            "description": "",
            "description_tooltip": null,
            "layout": "IPY_MODEL_bba4c98c0e08488592a111de9a571381",
            "placeholder": "​",
            "style": "IPY_MODEL_ca6b74b7acf94489b73905532db3fa35",
            "value": "tokenizer.json: 100%"
          }
        },
        "73fe2e0cd39444269e75da1d1f7ce69e": {
          "model_module": "@jupyter-widgets/controls",
          "model_name": "FloatProgressModel",
          "model_module_version": "1.5.0",
          "state": {
            "_dom_classes": [],
            "_model_module": "@jupyter-widgets/controls",
            "_model_module_version": "1.5.0",
            "_model_name": "FloatProgressModel",
            "_view_count": null,
            "_view_module": "@jupyter-widgets/controls",
            "_view_module_version": "1.5.0",
            "_view_name": "ProgressView",
            "bar_style": "success",
            "description": "",
            "description_tooltip": null,
            "layout": "IPY_MODEL_d3c3888968ca40e2919e5f05d5164298",
            "max": 466062,
            "min": 0,
            "orientation": "horizontal",
            "style": "IPY_MODEL_9b685ec7bfe343cb964853d97e67009e",
            "value": 466062
          }
        },
        "62713e86ba5147388860ab75ee3bd9e5": {
          "model_module": "@jupyter-widgets/controls",
          "model_name": "HTMLModel",
          "model_module_version": "1.5.0",
          "state": {
            "_dom_classes": [],
            "_model_module": "@jupyter-widgets/controls",
            "_model_module_version": "1.5.0",
            "_model_name": "HTMLModel",
            "_view_count": null,
            "_view_module": "@jupyter-widgets/controls",
            "_view_module_version": "1.5.0",
            "_view_name": "HTMLView",
            "description": "",
            "description_tooltip": null,
            "layout": "IPY_MODEL_3cf597bd91804d7391e0694b84292072",
            "placeholder": "​",
            "style": "IPY_MODEL_e68816c51024445fb3476a147c6f0962",
            "value": " 466k/466k [00:00&lt;00:00, 18.5MB/s]"
          }
        },
        "1c8e749a50b0449aaccde64876f2215d": {
          "model_module": "@jupyter-widgets/base",
          "model_name": "LayoutModel",
          "model_module_version": "1.2.0",
          "state": {
            "_model_module": "@jupyter-widgets/base",
            "_model_module_version": "1.2.0",
            "_model_name": "LayoutModel",
            "_view_count": null,
            "_view_module": "@jupyter-widgets/base",
            "_view_module_version": "1.2.0",
            "_view_name": "LayoutView",
            "align_content": null,
            "align_items": null,
            "align_self": null,
            "border": null,
            "bottom": null,
            "display": null,
            "flex": null,
            "flex_flow": null,
            "grid_area": null,
            "grid_auto_columns": null,
            "grid_auto_flow": null,
            "grid_auto_rows": null,
            "grid_column": null,
            "grid_gap": null,
            "grid_row": null,
            "grid_template_areas": null,
            "grid_template_columns": null,
            "grid_template_rows": null,
            "height": null,
            "justify_content": null,
            "justify_items": null,
            "left": null,
            "margin": null,
            "max_height": null,
            "max_width": null,
            "min_height": null,
            "min_width": null,
            "object_fit": null,
            "object_position": null,
            "order": null,
            "overflow": null,
            "overflow_x": null,
            "overflow_y": null,
            "padding": null,
            "right": null,
            "top": null,
            "visibility": null,
            "width": null
          }
        },
        "bba4c98c0e08488592a111de9a571381": {
          "model_module": "@jupyter-widgets/base",
          "model_name": "LayoutModel",
          "model_module_version": "1.2.0",
          "state": {
            "_model_module": "@jupyter-widgets/base",
            "_model_module_version": "1.2.0",
            "_model_name": "LayoutModel",
            "_view_count": null,
            "_view_module": "@jupyter-widgets/base",
            "_view_module_version": "1.2.0",
            "_view_name": "LayoutView",
            "align_content": null,
            "align_items": null,
            "align_self": null,
            "border": null,
            "bottom": null,
            "display": null,
            "flex": null,
            "flex_flow": null,
            "grid_area": null,
            "grid_auto_columns": null,
            "grid_auto_flow": null,
            "grid_auto_rows": null,
            "grid_column": null,
            "grid_gap": null,
            "grid_row": null,
            "grid_template_areas": null,
            "grid_template_columns": null,
            "grid_template_rows": null,
            "height": null,
            "justify_content": null,
            "justify_items": null,
            "left": null,
            "margin": null,
            "max_height": null,
            "max_width": null,
            "min_height": null,
            "min_width": null,
            "object_fit": null,
            "object_position": null,
            "order": null,
            "overflow": null,
            "overflow_x": null,
            "overflow_y": null,
            "padding": null,
            "right": null,
            "top": null,
            "visibility": null,
            "width": null
          }
        },
        "ca6b74b7acf94489b73905532db3fa35": {
          "model_module": "@jupyter-widgets/controls",
          "model_name": "DescriptionStyleModel",
          "model_module_version": "1.5.0",
          "state": {
            "_model_module": "@jupyter-widgets/controls",
            "_model_module_version": "1.5.0",
            "_model_name": "DescriptionStyleModel",
            "_view_count": null,
            "_view_module": "@jupyter-widgets/base",
            "_view_module_version": "1.2.0",
            "_view_name": "StyleView",
            "description_width": ""
          }
        },
        "d3c3888968ca40e2919e5f05d5164298": {
          "model_module": "@jupyter-widgets/base",
          "model_name": "LayoutModel",
          "model_module_version": "1.2.0",
          "state": {
            "_model_module": "@jupyter-widgets/base",
            "_model_module_version": "1.2.0",
            "_model_name": "LayoutModel",
            "_view_count": null,
            "_view_module": "@jupyter-widgets/base",
            "_view_module_version": "1.2.0",
            "_view_name": "LayoutView",
            "align_content": null,
            "align_items": null,
            "align_self": null,
            "border": null,
            "bottom": null,
            "display": null,
            "flex": null,
            "flex_flow": null,
            "grid_area": null,
            "grid_auto_columns": null,
            "grid_auto_flow": null,
            "grid_auto_rows": null,
            "grid_column": null,
            "grid_gap": null,
            "grid_row": null,
            "grid_template_areas": null,
            "grid_template_columns": null,
            "grid_template_rows": null,
            "height": null,
            "justify_content": null,
            "justify_items": null,
            "left": null,
            "margin": null,
            "max_height": null,
            "max_width": null,
            "min_height": null,
            "min_width": null,
            "object_fit": null,
            "object_position": null,
            "order": null,
            "overflow": null,
            "overflow_x": null,
            "overflow_y": null,
            "padding": null,
            "right": null,
            "top": null,
            "visibility": null,
            "width": null
          }
        },
        "9b685ec7bfe343cb964853d97e67009e": {
          "model_module": "@jupyter-widgets/controls",
          "model_name": "ProgressStyleModel",
          "model_module_version": "1.5.0",
          "state": {
            "_model_module": "@jupyter-widgets/controls",
            "_model_module_version": "1.5.0",
            "_model_name": "ProgressStyleModel",
            "_view_count": null,
            "_view_module": "@jupyter-widgets/base",
            "_view_module_version": "1.2.0",
            "_view_name": "StyleView",
            "bar_color": null,
            "description_width": ""
          }
        },
        "3cf597bd91804d7391e0694b84292072": {
          "model_module": "@jupyter-widgets/base",
          "model_name": "LayoutModel",
          "model_module_version": "1.2.0",
          "state": {
            "_model_module": "@jupyter-widgets/base",
            "_model_module_version": "1.2.0",
            "_model_name": "LayoutModel",
            "_view_count": null,
            "_view_module": "@jupyter-widgets/base",
            "_view_module_version": "1.2.0",
            "_view_name": "LayoutView",
            "align_content": null,
            "align_items": null,
            "align_self": null,
            "border": null,
            "bottom": null,
            "display": null,
            "flex": null,
            "flex_flow": null,
            "grid_area": null,
            "grid_auto_columns": null,
            "grid_auto_flow": null,
            "grid_auto_rows": null,
            "grid_column": null,
            "grid_gap": null,
            "grid_row": null,
            "grid_template_areas": null,
            "grid_template_columns": null,
            "grid_template_rows": null,
            "height": null,
            "justify_content": null,
            "justify_items": null,
            "left": null,
            "margin": null,
            "max_height": null,
            "max_width": null,
            "min_height": null,
            "min_width": null,
            "object_fit": null,
            "object_position": null,
            "order": null,
            "overflow": null,
            "overflow_x": null,
            "overflow_y": null,
            "padding": null,
            "right": null,
            "top": null,
            "visibility": null,
            "width": null
          }
        },
        "e68816c51024445fb3476a147c6f0962": {
          "model_module": "@jupyter-widgets/controls",
          "model_name": "DescriptionStyleModel",
          "model_module_version": "1.5.0",
          "state": {
            "_model_module": "@jupyter-widgets/controls",
            "_model_module_version": "1.5.0",
            "_model_name": "DescriptionStyleModel",
            "_view_count": null,
            "_view_module": "@jupyter-widgets/base",
            "_view_module_version": "1.2.0",
            "_view_name": "StyleView",
            "description_width": ""
          }
        },
        "252076d09a7d41e4b115420748bd5c86": {
          "model_module": "@jupyter-widgets/controls",
          "model_name": "HBoxModel",
          "model_module_version": "1.5.0",
          "state": {
            "_dom_classes": [],
            "_model_module": "@jupyter-widgets/controls",
            "_model_module_version": "1.5.0",
            "_model_name": "HBoxModel",
            "_view_count": null,
            "_view_module": "@jupyter-widgets/controls",
            "_view_module_version": "1.5.0",
            "_view_name": "HBoxView",
            "box_style": "",
            "children": [
              "IPY_MODEL_5280f2bf658f4a859abcbe0e5c4c7d3e",
              "IPY_MODEL_757c7238f29649fe90b6a68d1a2971e3",
              "IPY_MODEL_e14dda23b4f5442ab0eb371fcf614568"
            ],
            "layout": "IPY_MODEL_3490b29aac924ff7bfcc18491b18051c"
          }
        },
        "5280f2bf658f4a859abcbe0e5c4c7d3e": {
          "model_module": "@jupyter-widgets/controls",
          "model_name": "HTMLModel",
          "model_module_version": "1.5.0",
          "state": {
            "_dom_classes": [],
            "_model_module": "@jupyter-widgets/controls",
            "_model_module_version": "1.5.0",
            "_model_name": "HTMLModel",
            "_view_count": null,
            "_view_module": "@jupyter-widgets/controls",
            "_view_module_version": "1.5.0",
            "_view_name": "HTMLView",
            "description": "",
            "description_tooltip": null,
            "layout": "IPY_MODEL_0d28bb8699524917b79c40cca1066149",
            "placeholder": "​",
            "style": "IPY_MODEL_c1d56ade5c7045d1bd6e77d1234792c9",
            "value": "model.safetensors: 100%"
          }
        },
        "757c7238f29649fe90b6a68d1a2971e3": {
          "model_module": "@jupyter-widgets/controls",
          "model_name": "FloatProgressModel",
          "model_module_version": "1.5.0",
          "state": {
            "_dom_classes": [],
            "_model_module": "@jupyter-widgets/controls",
            "_model_module_version": "1.5.0",
            "_model_name": "FloatProgressModel",
            "_view_count": null,
            "_view_module": "@jupyter-widgets/controls",
            "_view_module_version": "1.5.0",
            "_view_name": "ProgressView",
            "bar_style": "success",
            "description": "",
            "description_tooltip": null,
            "layout": "IPY_MODEL_c3b180634839441e8ae63ce79edc6b70",
            "max": 440449768,
            "min": 0,
            "orientation": "horizontal",
            "style": "IPY_MODEL_eb2a1c50ce544dc19008c609d86ee5cb",
            "value": 440449768
          }
        },
        "e14dda23b4f5442ab0eb371fcf614568": {
          "model_module": "@jupyter-widgets/controls",
          "model_name": "HTMLModel",
          "model_module_version": "1.5.0",
          "state": {
            "_dom_classes": [],
            "_model_module": "@jupyter-widgets/controls",
            "_model_module_version": "1.5.0",
            "_model_name": "HTMLModel",
            "_view_count": null,
            "_view_module": "@jupyter-widgets/controls",
            "_view_module_version": "1.5.0",
            "_view_name": "HTMLView",
            "description": "",
            "description_tooltip": null,
            "layout": "IPY_MODEL_543088c8c42d400a977e78dfe9943784",
            "placeholder": "​",
            "style": "IPY_MODEL_297317ccc42a48faa38213bfd6a398da",
            "value": " 440M/440M [00:07&lt;00:00, 18.1MB/s]"
          }
        },
        "3490b29aac924ff7bfcc18491b18051c": {
          "model_module": "@jupyter-widgets/base",
          "model_name": "LayoutModel",
          "model_module_version": "1.2.0",
          "state": {
            "_model_module": "@jupyter-widgets/base",
            "_model_module_version": "1.2.0",
            "_model_name": "LayoutModel",
            "_view_count": null,
            "_view_module": "@jupyter-widgets/base",
            "_view_module_version": "1.2.0",
            "_view_name": "LayoutView",
            "align_content": null,
            "align_items": null,
            "align_self": null,
            "border": null,
            "bottom": null,
            "display": null,
            "flex": null,
            "flex_flow": null,
            "grid_area": null,
            "grid_auto_columns": null,
            "grid_auto_flow": null,
            "grid_auto_rows": null,
            "grid_column": null,
            "grid_gap": null,
            "grid_row": null,
            "grid_template_areas": null,
            "grid_template_columns": null,
            "grid_template_rows": null,
            "height": null,
            "justify_content": null,
            "justify_items": null,
            "left": null,
            "margin": null,
            "max_height": null,
            "max_width": null,
            "min_height": null,
            "min_width": null,
            "object_fit": null,
            "object_position": null,
            "order": null,
            "overflow": null,
            "overflow_x": null,
            "overflow_y": null,
            "padding": null,
            "right": null,
            "top": null,
            "visibility": null,
            "width": null
          }
        },
        "0d28bb8699524917b79c40cca1066149": {
          "model_module": "@jupyter-widgets/base",
          "model_name": "LayoutModel",
          "model_module_version": "1.2.0",
          "state": {
            "_model_module": "@jupyter-widgets/base",
            "_model_module_version": "1.2.0",
            "_model_name": "LayoutModel",
            "_view_count": null,
            "_view_module": "@jupyter-widgets/base",
            "_view_module_version": "1.2.0",
            "_view_name": "LayoutView",
            "align_content": null,
            "align_items": null,
            "align_self": null,
            "border": null,
            "bottom": null,
            "display": null,
            "flex": null,
            "flex_flow": null,
            "grid_area": null,
            "grid_auto_columns": null,
            "grid_auto_flow": null,
            "grid_auto_rows": null,
            "grid_column": null,
            "grid_gap": null,
            "grid_row": null,
            "grid_template_areas": null,
            "grid_template_columns": null,
            "grid_template_rows": null,
            "height": null,
            "justify_content": null,
            "justify_items": null,
            "left": null,
            "margin": null,
            "max_height": null,
            "max_width": null,
            "min_height": null,
            "min_width": null,
            "object_fit": null,
            "object_position": null,
            "order": null,
            "overflow": null,
            "overflow_x": null,
            "overflow_y": null,
            "padding": null,
            "right": null,
            "top": null,
            "visibility": null,
            "width": null
          }
        },
        "c1d56ade5c7045d1bd6e77d1234792c9": {
          "model_module": "@jupyter-widgets/controls",
          "model_name": "DescriptionStyleModel",
          "model_module_version": "1.5.0",
          "state": {
            "_model_module": "@jupyter-widgets/controls",
            "_model_module_version": "1.5.0",
            "_model_name": "DescriptionStyleModel",
            "_view_count": null,
            "_view_module": "@jupyter-widgets/base",
            "_view_module_version": "1.2.0",
            "_view_name": "StyleView",
            "description_width": ""
          }
        },
        "c3b180634839441e8ae63ce79edc6b70": {
          "model_module": "@jupyter-widgets/base",
          "model_name": "LayoutModel",
          "model_module_version": "1.2.0",
          "state": {
            "_model_module": "@jupyter-widgets/base",
            "_model_module_version": "1.2.0",
            "_model_name": "LayoutModel",
            "_view_count": null,
            "_view_module": "@jupyter-widgets/base",
            "_view_module_version": "1.2.0",
            "_view_name": "LayoutView",
            "align_content": null,
            "align_items": null,
            "align_self": null,
            "border": null,
            "bottom": null,
            "display": null,
            "flex": null,
            "flex_flow": null,
            "grid_area": null,
            "grid_auto_columns": null,
            "grid_auto_flow": null,
            "grid_auto_rows": null,
            "grid_column": null,
            "grid_gap": null,
            "grid_row": null,
            "grid_template_areas": null,
            "grid_template_columns": null,
            "grid_template_rows": null,
            "height": null,
            "justify_content": null,
            "justify_items": null,
            "left": null,
            "margin": null,
            "max_height": null,
            "max_width": null,
            "min_height": null,
            "min_width": null,
            "object_fit": null,
            "object_position": null,
            "order": null,
            "overflow": null,
            "overflow_x": null,
            "overflow_y": null,
            "padding": null,
            "right": null,
            "top": null,
            "visibility": null,
            "width": null
          }
        },
        "eb2a1c50ce544dc19008c609d86ee5cb": {
          "model_module": "@jupyter-widgets/controls",
          "model_name": "ProgressStyleModel",
          "model_module_version": "1.5.0",
          "state": {
            "_model_module": "@jupyter-widgets/controls",
            "_model_module_version": "1.5.0",
            "_model_name": "ProgressStyleModel",
            "_view_count": null,
            "_view_module": "@jupyter-widgets/base",
            "_view_module_version": "1.2.0",
            "_view_name": "StyleView",
            "bar_color": null,
            "description_width": ""
          }
        },
        "543088c8c42d400a977e78dfe9943784": {
          "model_module": "@jupyter-widgets/base",
          "model_name": "LayoutModel",
          "model_module_version": "1.2.0",
          "state": {
            "_model_module": "@jupyter-widgets/base",
            "_model_module_version": "1.2.0",
            "_model_name": "LayoutModel",
            "_view_count": null,
            "_view_module": "@jupyter-widgets/base",
            "_view_module_version": "1.2.0",
            "_view_name": "LayoutView",
            "align_content": null,
            "align_items": null,
            "align_self": null,
            "border": null,
            "bottom": null,
            "display": null,
            "flex": null,
            "flex_flow": null,
            "grid_area": null,
            "grid_auto_columns": null,
            "grid_auto_flow": null,
            "grid_auto_rows": null,
            "grid_column": null,
            "grid_gap": null,
            "grid_row": null,
            "grid_template_areas": null,
            "grid_template_columns": null,
            "grid_template_rows": null,
            "height": null,
            "justify_content": null,
            "justify_items": null,
            "left": null,
            "margin": null,
            "max_height": null,
            "max_width": null,
            "min_height": null,
            "min_width": null,
            "object_fit": null,
            "object_position": null,
            "order": null,
            "overflow": null,
            "overflow_x": null,
            "overflow_y": null,
            "padding": null,
            "right": null,
            "top": null,
            "visibility": null,
            "width": null
          }
        },
        "297317ccc42a48faa38213bfd6a398da": {
          "model_module": "@jupyter-widgets/controls",
          "model_name": "DescriptionStyleModel",
          "model_module_version": "1.5.0",
          "state": {
            "_model_module": "@jupyter-widgets/controls",
            "_model_module_version": "1.5.0",
            "_model_name": "DescriptionStyleModel",
            "_view_count": null,
            "_view_module": "@jupyter-widgets/base",
            "_view_module_version": "1.2.0",
            "_view_name": "StyleView",
            "description_width": ""
          }
        }
      }
    }
  },
  "cells": [
    {
      "cell_type": "markdown",
      "metadata": {
        "id": "view-in-github",
        "colab_type": "text"
      },
      "source": [
        "<a href=\"https://colab.research.google.com/github/thomasjithin440/thomasjithin440/blob/main/Untitled10.ipynb\" target=\"_parent\"><img src=\"https://colab.research.google.com/assets/colab-badge.svg\" alt=\"Open In Colab\"/></a>"
      ]
    },
    {
      "cell_type": "markdown",
      "source": [
        "## **NLP Graded Project**\n",
        "\n",
        "##    Developed By: : **Jithin THOMAS**\n",
        "\n",
        "\n",
        "\n",
        "\n"
      ],
      "metadata": {
        "id": "-wFKes7Tu8Cr"
      }
    },
    {
      "cell_type": "code",
      "execution_count": 6,
      "metadata": {
        "id": "7er7Z6ggt91o"
      },
      "outputs": [],
      "source": [
        "# pip install numpy pandas scikit-learn tensorflow torch transformers nltk"
      ]
    },
    {
      "cell_type": "markdown",
      "source": [
        "## **Project Overview**\n",
        "\n",
        "This project aims to classify textual data based on sentiment labels using three different models:\n",
        "\n",
        "    1.Fully Connected Neural Network (FCNN)\n",
        "\n",
        "    2.Recurrent Neural Network (LSTM)\n",
        "\n",
        "    3.Fine-Tuned Transformer Model (BERT)"
      ],
      "metadata": {
        "id": "Aajqsguk3qmb"
      }
    },
    {
      "cell_type": "markdown",
      "source": [
        "## **Import Required Libraries**"
      ],
      "metadata": {
        "id": "hmSUh9F4wd5d"
      }
    },
    {
      "cell_type": "code",
      "source": [
        "import numpy as np\n",
        "import pandas as pd\n",
        "import matplotlib.pyplot as plt\n",
        "import seaborn as sns\n",
        "from sklearn.metrics import accuracy_score, classification_report, confusion_matrix\n",
        "from sklearn.preprocessing import LabelEncoder\n",
        "from sklearn.feature_extraction.text import TfidfVectorizer\n",
        "import tensorflow as tf\n",
        "from tensorflow.keras.models import Sequential\n",
        "from tensorflow.keras.layers import Dense, Dropout, LSTM, Embedding\n",
        "import torch\n",
        "from transformers import AutoModelForSequenceClassification, AutoTokenizer, Trainer, TrainingArguments"
      ],
      "metadata": {
        "id": "kqqYe-w7whCq"
      },
      "execution_count": 21,
      "outputs": []
    },
    {
      "cell_type": "markdown",
      "source": [
        "**Load** **and Explore the Dataset**\n",
        "\n",
        "Load Train, Test, and Validation Datasets\n",
        "\n",
        "\n",
        "\n",
        "      1.   train.txt - Training dataset\n",
        "      2.   test.txt - Test dataset\n",
        "      3.   validation.txt - Validation dataset (final model evaluation)\n",
        "\n",
        "\n",
        "\n",
        "\n",
        "\n",
        "Load them into pandas DataFrames:"
      ],
      "metadata": {
        "id": "shuvERmkwjnE"
      }
    },
    {
      "cell_type": "code",
      "source": [
        "# Load the datasets\n",
        "train_data = pd.read_csv(\"train.txt\", sep=\";\", names=[\"text\", \"label\"])\n",
        "test_data = pd.read_csv(\"test.txt\", sep=\";\", names=[\"text\", \"label\"])\n",
        "validation_data = pd.read_csv(\"validation.txt\", sep=\";\", names=[\"text\", \"label\"])"
      ],
      "metadata": {
        "id": "j2eHaVORxH3H"
      },
      "execution_count": 22,
      "outputs": []
    },
    {
      "cell_type": "markdown",
      "source": [
        "**Check Dataset Structure**"
      ],
      "metadata": {
        "id": "YxRk5Z_VxO4x"
      }
    },
    {
      "cell_type": "code",
      "source": [
        "print(train_data.head())\n",
        "print(train_data[\"label\"].value_counts())"
      ],
      "metadata": {
        "colab": {
          "base_uri": "https://localhost:8080/"
        },
        "id": "JZ7_gTZKxL5Y",
        "outputId": "c8c9f863-21a2-4b6a-a86d-b7f7f3677c3b"
      },
      "execution_count": 23,
      "outputs": [
        {
          "output_type": "stream",
          "name": "stdout",
          "text": [
            "                                                text    label\n",
            "0                            i didnt feel humiliated  sadness\n",
            "1  i can go from feeling so hopeless to so damned...  sadness\n",
            "2   im grabbing a minute to post i feel greedy wrong    anger\n",
            "3  i am ever feeling nostalgic about the fireplac...     love\n",
            "4                               i am feeling grouchy    anger\n",
            "label\n",
            "joy         5362\n",
            "sadness     4666\n",
            "anger       2159\n",
            "fear        1937\n",
            "love        1304\n",
            "surprise     572\n",
            "Name: count, dtype: int64\n"
          ]
        }
      ]
    },
    {
      "cell_type": "code",
      "source": [
        "plt.figure(figsize=(6,4))\n",
        "sns.countplot(y=train_data[\"label\"], order=train_data[\"label\"].value_counts().index)\n",
        "plt.title(\"Label Distribution in Train Dataset\")\n",
        "plt.xlabel(\"Count\")\n",
        "plt.ylabel(\"Emotion\")\n",
        "plt.show()"
      ],
      "metadata": {
        "colab": {
          "base_uri": "https://localhost:8080/",
          "height": 410
        },
        "id": "lIsDFiOpEUZX",
        "outputId": "d65f1b5b-619b-4af9-89cf-182502e70ab1"
      },
      "execution_count": 24,
      "outputs": [
        {
          "output_type": "display_data",
          "data": {
            "text/plain": [
              "<Figure size 600x400 with 1 Axes>"
            ],
            "image/png": "[encoded data removed]"
          },
          "metadata": {}
        }
      ]
    },
    {
      "cell_type": "code",
      "source": [
        "train_data[\"text_length\"] = train_data[\"text\"].apply(lambda x: len(x.split()))\n",
        "\n",
        "plt.figure(figsize=(6,4))\n",
        "sns.histplot(train_data[\"text_length\"], bins=30, kde=True)\n",
        "plt.title(\"Text Length Distribution in Train Dataset\")\n",
        "plt.xlabel(\"Number of Words\")\n",
        "plt.ylabel(\"Count\")\n",
        "plt.show()\n"
      ],
      "metadata": {
        "colab": {
          "base_uri": "https://localhost:8080/",
          "height": 410
        },
        "id": "NB7Pjxq7EZAx",
        "outputId": "99c54e77-7f07-436a-b58e-c983e9d12c0f"
      },
      "execution_count": 25,
      "outputs": [
        {
          "output_type": "display_data",
          "data": {
            "text/plain": [
              "<Figure size 600x400 with 1 Axes>"
            ],
            "image/png": "[encoded data removed]"
          },
          "metadata": {}
        }
      ]
    },
    {
      "cell_type": "markdown",
      "source": [
        "**Encode Labels**"
      ],
      "metadata": {
        "id": "SZF_hVQzxYKO"
      }
    },
    {
      "cell_type": "code",
      "source": [
        "# Encode labels into numerical values\n",
        "label_encoder = LabelEncoder()\n",
        "train_data[\"label\"] = label_encoder.fit_transform(train_data[\"label\"])\n",
        "test_data[\"label\"] = label_encoder.transform(test_data[\"label\"])\n",
        "validation_data[\"label\"] = label_encoder.transform(validation_data[\"label\"])\n",
        "\n",
        "num_classes = len(label_encoder.classes_)\n",
        "print(\"Number of Classes:\", num_classes)"
      ],
      "metadata": {
        "colab": {
          "base_uri": "https://localhost:8080/"
        },
        "id": "iKDi5EUexZQe",
        "outputId": "a0490d86-5dcd-4479-aa7c-ee8139e4b418"
      },
      "execution_count": 26,
      "outputs": [
        {
          "output_type": "stream",
          "name": "stdout",
          "text": [
            "Number of Classes: 6\n"
          ]
        }
      ]
    },
    {
      "cell_type": "markdown",
      "source": [
        "## **Model 1 - Fully Connected Neural Network (FCNN)**"
      ],
      "metadata": {
        "id": "nmpgWmHIyAg7"
      }
    },
    {
      "cell_type": "markdown",
      "source": [
        "We will convert text to TF-IDF features before training a fully connected neural network.\n",
        "\n",
        "Convert Text into TF-IDF Vectors"
      ],
      "metadata": {
        "id": "PdYXOEiLyG4a"
      }
    },
    {
      "cell_type": "code",
      "source": [
        "vectorizer = TfidfVectorizer(max_features=5000)\n",
        "X_train_tfidf = vectorizer.fit_transform(train_data[\"text\"])\n",
        "X_test_tfidf = vectorizer.transform(test_data[\"text\"])\n",
        "X_validation_tfidf = vectorizer.transform(validation_data[\"text\"])"
      ],
      "metadata": {
        "id": "n0hCsBaiyBc1"
      },
      "execution_count": 27,
      "outputs": []
    },
    {
      "cell_type": "markdown",
      "source": [
        "**Define and Train FCNN Model**"
      ],
      "metadata": {
        "id": "tX4P_he1yLlO"
      }
    },
    {
      "cell_type": "code",
      "source": [
        "fcnn_model = Sequential([\n",
        "    Dense(512, activation=\"relu\", input_shape=(X_train_tfidf.shape[1],)),\n",
        "    Dropout(0.3),\n",
        "    Dense(256, activation=\"relu\"),\n",
        "    Dropout(0.3),\n",
        "    Dense(num_classes, activation=\"softmax\")\n",
        "])\n",
        "\n",
        "fcnn_model.compile(optimizer=\"adam\", loss=\"sparse_categorical_crossentropy\", metrics=[\"accuracy\"])\n",
        "\n",
        "# Train FCNN Model\n",
        "history_fcnn = fcnn_model.fit(X_train_tfidf.toarray(), train_data[\"label\"], epochs=10, batch_size=32, validation_data=(X_test_tfidf.toarray(), test_data[\"label\"]))"
      ],
      "metadata": {
        "colab": {
          "base_uri": "https://localhost:8080/"
        },
        "id": "CIXe4upayMzh",
        "outputId": "ef1680af-ce19-4f5f-cb56-f8e880144e8b"
      },
      "execution_count": 36,
      "outputs": [
        {
          "output_type": "stream",
          "name": "stdout",
          "text": [
            "Epoch 1/10\n",
            "\u001b[1m500/500\u001b[0m \u001b[32m━━━━━━━━━━━━━━━━━━━━\u001b[0m\u001b[37m\u001b[0m \u001b[1m6s\u001b[0m 6ms/step - accuracy: 0.5530 - loss: 1.1864 - val_accuracy: 0.8655 - val_loss: 0.3448\n",
            "Epoch 2/10\n",
            "\u001b[1m500/500\u001b[0m \u001b[32m━━━━━━━━━━━━━━━━━━━━\u001b[0m\u001b[37m\u001b[0m \u001b[1m3s\u001b[0m 5ms/step - accuracy: 0.9122 - loss: 0.2472 - val_accuracy: 0.8650 - val_loss: 0.3760\n",
            "Epoch 3/10\n",
            "\u001b[1m500/500\u001b[0m \u001b[32m━━━━━━━━━━━━━━━━━━━━\u001b[0m\u001b[37m\u001b[0m \u001b[1m2s\u001b[0m 3ms/step - accuracy: 0.9691 - loss: 0.0930 - val_accuracy: 0.8605 - val_loss: 0.4159\n",
            "Epoch 4/10\n",
            "\u001b[1m500/500\u001b[0m \u001b[32m━━━━━━━━━━━━━━━━━━━━\u001b[0m\u001b[37m\u001b[0m \u001b[1m5s\u001b[0m 9ms/step - accuracy: 0.9857 - loss: 0.0474 - val_accuracy: 0.8585 - val_loss: 0.4721\n",
            "Epoch 5/10\n",
            "\u001b[1m500/500\u001b[0m \u001b[32m━━━━━━━━━━━━━━━━━━━━\u001b[0m\u001b[37m\u001b[0m \u001b[1m5s\u001b[0m 10ms/step - accuracy: 0.9905 - loss: 0.0282 - val_accuracy: 0.8580 - val_loss: 0.5256\n",
            "Epoch 6/10\n",
            "\u001b[1m500/500\u001b[0m \u001b[32m━━━━━━━━━━━━━━━━━━━━\u001b[0m\u001b[37m\u001b[0m \u001b[1m3s\u001b[0m 6ms/step - accuracy: 0.9930 - loss: 0.0242 - val_accuracy: 0.8580 - val_loss: 0.5445\n",
            "Epoch 7/10\n",
            "\u001b[1m500/500\u001b[0m \u001b[32m━━━━━━━━━━━━━━━━━━━━\u001b[0m\u001b[37m\u001b[0m \u001b[1m2s\u001b[0m 5ms/step - accuracy: 0.9947 - loss: 0.0173 - val_accuracy: 0.8460 - val_loss: 0.6109\n",
            "Epoch 8/10\n",
            "\u001b[1m500/500\u001b[0m \u001b[32m━━━━━━━━━━━━━━━━━━━━\u001b[0m\u001b[37m\u001b[0m \u001b[1m2s\u001b[0m 5ms/step - accuracy: 0.9951 - loss: 0.0155 - val_accuracy: 0.8585 - val_loss: 0.6013\n",
            "Epoch 9/10\n",
            "\u001b[1m500/500\u001b[0m \u001b[32m━━━━━━━━━━━━━━━━━━━━\u001b[0m\u001b[37m\u001b[0m \u001b[1m4s\u001b[0m 8ms/step - accuracy: 0.9950 - loss: 0.0156 - val_accuracy: 0.8480 - val_loss: 0.6664\n",
            "Epoch 10/10\n",
            "\u001b[1m500/500\u001b[0m \u001b[32m━━━━━━━━━━━━━━━━━━━━\u001b[0m\u001b[37m\u001b[0m \u001b[1m2s\u001b[0m 4ms/step - accuracy: 0.9956 - loss: 0.0122 - val_accuracy: 0.8545 - val_loss: 0.6836\n"
          ]
        }
      ]
    },
    {
      "cell_type": "markdown",
      "source": [
        "**Evaluate FCNN Model**\n"
      ],
      "metadata": {
        "id": "ll3i3NcnyQd1"
      }
    },
    {
      "cell_type": "code",
      "source": [
        "y_pred_fcnn = fcnn_model.predict(X_validation_tfidf.toarray()).argmax(axis=1)\n",
        "print(\"FCNN Model Accuracy on Validation Set:\", accuracy_score(validation_data[\"label\"], y_pred_fcnn))\n",
        "print(classification_report(validation_data[\"label\"], y_pred_fcnn, target_names=label_encoder.classes_))"
      ],
      "metadata": {
        "colab": {
          "base_uri": "https://localhost:8080/"
        },
        "id": "ecJjWuDVyXdJ",
        "outputId": "bf739162-98a8-4524-88a3-ef0f70ec2ae3"
      },
      "execution_count": 37,
      "outputs": [
        {
          "output_type": "stream",
          "name": "stdout",
          "text": [
            "\u001b[1m63/63\u001b[0m \u001b[32m━━━━━━━━━━━━━━━━━━━━\u001b[0m\u001b[37m\u001b[0m \u001b[1m0s\u001b[0m 4ms/step\n",
            "FCNN Model Accuracy on Validation Set: 0.8655\n",
            "              precision    recall  f1-score   support\n",
            "\n",
            "       anger       0.87      0.88      0.88       275\n",
            "        fear       0.84      0.79      0.81       212\n",
            "         joy       0.93      0.86      0.89       704\n",
            "        love       0.73      0.85      0.78       178\n",
            "     sadness       0.87      0.91      0.89       550\n",
            "    surprise       0.73      0.79      0.76        81\n",
            "\n",
            "    accuracy                           0.87      2000\n",
            "   macro avg       0.83      0.85      0.84      2000\n",
            "weighted avg       0.87      0.87      0.87      2000\n",
            "\n"
          ]
        }
      ]
    },
    {
      "cell_type": "code",
      "source": [
        "plt.plot(history_fcnn.history['accuracy'], label='Train Accuracy')\n",
        "plt.plot(history_fcnn.history['val_accuracy'], label='Validation Accuracy')\n",
        "plt.title('FCNN Model Accuracy')\n",
        "plt.xlabel('Epochs')\n",
        "plt.ylabel('Accuracy')\n",
        "plt.legend()\n",
        "plt.show()\n",
        "\n",
        "plt.plot(history_fcnn.history['loss'], label='Train Loss')\n",
        "plt.plot(history_fcnn.history['val_loss'], label='Validation Loss')\n",
        "plt.title('FCNN Model Loss')\n",
        "plt.xlabel('Epochs')\n",
        "plt.ylabel('Loss')\n",
        "plt.legend()\n",
        "plt.show()"
      ],
      "metadata": {
        "colab": {
          "base_uri": "https://localhost:8080/",
          "height": 927
        },
        "id": "C1NqDYfzGoJa",
        "outputId": "33ba75c7-31ba-4358-feda-bb96fbc2730c"
      },
      "execution_count": 38,
      "outputs": [
        {
          "output_type": "display_data",
          "data": {
            "text/plain": [
              "<Figure size 640x480 with 1 Axes>"
            ],
            "image/png": "[encoded data removed]"
          },
          "metadata": {}
        },
        {
          "output_type": "display_data",
          "data": {
            "text/plain": [
              "<Figure size 640x480 with 1 Axes>"
            ],
            "image/png": "[encoded data removed]"
          },
          "metadata": {}
        }
      ]
    },
    {
      "cell_type": "markdown",
      "source": [
        "## **Model 2 - Recurrent Neural Network (LSTM)**"
      ],
      "metadata": {
        "id": "1_zqv_f3yZTZ"
      }
    },
    {
      "cell_type": "code",
      "source": [
        "tokenizer = Tokenizer(num_words=10000, oov_token=\"<OOV>\")\n",
        "tokenizer.fit_on_texts(train_data[\"text\"])\n",
        "\n",
        "X_train_seq = pad_sequences(tokenizer.texts_to_sequences(train_data[\"text\"]), maxlen=100)\n",
        "X_test_seq = pad_sequences(tokenizer.texts_to_sequences(test_data[\"text\"]), maxlen=100)\n",
        "X_validation_seq = pad_sequences(tokenizer.texts_to_sequences(validation_data[\"text\"]), maxlen=100)"
      ],
      "metadata": {
        "id": "F-dSDFJiyacx"
      },
      "execution_count": 30,
      "outputs": []
    },
    {
      "cell_type": "markdown",
      "source": [
        "**Define and Train LSTM Model**"
      ],
      "metadata": {
        "id": "CRmmmrETyfiy"
      }
    },
    {
      "cell_type": "code",
      "source": [
        "lstm_model = Sequential([\n",
        "    Embedding(input_dim=10000, output_dim=128, input_length=100),\n",
        "    LSTM(64, return_sequences=True),\n",
        "    LSTM(32),\n",
        "    Dense(num_classes, activation=\"softmax\")\n",
        "])\n",
        "\n",
        "lstm_model.compile(optimizer=\"adam\", loss=\"sparse_categorical_crossentropy\", metrics=[\"accuracy\"])\n",
        "\n",
        "# Train LSTM Model\n",
        "history_lstm = lstm_model.fit(X_train_seq, train_data[\"label\"], epochs=10, batch_size=32, validation_data=(X_test_seq, test_data[\"label\"]))"
      ],
      "metadata": {
        "colab": {
          "base_uri": "https://localhost:8080/"
        },
        "id": "gPhaxinRygZa",
        "outputId": "e536d754-cb7b-4461-94f1-30db793b1b77"
      },
      "execution_count": 31,
      "outputs": [
        {
          "output_type": "stream",
          "name": "stdout",
          "text": [
            "Epoch 1/10\n"
          ]
        },
        {
          "output_type": "stream",
          "name": "stderr",
          "text": [
            "/usr/local/lib/python3.11/dist-packages/keras/src/layers/core/embedding.py:90: UserWarning: Argument `input_length` is deprecated. Just remove it.\n",
            "  warnings.warn(\n"
          ]
        },
        {
          "output_type": "stream",
          "name": "stdout",
          "text": [
            "\u001b[1m500/500\u001b[0m \u001b[32m━━━━━━━━━━━━━━━━━━━━\u001b[0m\u001b[37m\u001b[0m \u001b[1m16s\u001b[0m 22ms/step - accuracy: 0.4272 - loss: 1.4232 - val_accuracy: 0.8855 - val_loss: 0.3821\n",
            "Epoch 2/10\n",
            "\u001b[1m500/500\u001b[0m \u001b[32m━━━━━━━━━━━━━━━━━━━━\u001b[0m\u001b[37m\u001b[0m \u001b[1m10s\u001b[0m 19ms/step - accuracy: 0.9033 - loss: 0.2893 - val_accuracy: 0.9135 - val_loss: 0.2408\n",
            "Epoch 3/10\n",
            "\u001b[1m500/500\u001b[0m \u001b[32m━━━━━━━━━━━━━━━━━━━━\u001b[0m\u001b[37m\u001b[0m \u001b[1m6s\u001b[0m 13ms/step - accuracy: 0.9516 - loss: 0.1380 - val_accuracy: 0.9160 - val_loss: 0.2301\n",
            "Epoch 4/10\n",
            "\u001b[1m500/500\u001b[0m \u001b[32m━━━━━━━━━━━━━━━━━━━━\u001b[0m\u001b[37m\u001b[0m \u001b[1m11s\u001b[0m 14ms/step - accuracy: 0.9665 - loss: 0.0943 - val_accuracy: 0.9255 - val_loss: 0.2080\n",
            "Epoch 5/10\n",
            "\u001b[1m500/500\u001b[0m \u001b[32m━━━━━━━━━━━━━━━━━━━━\u001b[0m\u001b[37m\u001b[0m \u001b[1m15s\u001b[0m 23ms/step - accuracy: 0.9751 - loss: 0.0684 - val_accuracy: 0.9145 - val_loss: 0.2839\n",
            "Epoch 6/10\n",
            "\u001b[1m500/500\u001b[0m \u001b[32m━━━━━━━━━━━━━━━━━━━━\u001b[0m\u001b[37m\u001b[0m \u001b[1m12s\u001b[0m 24ms/step - accuracy: 0.9796 - loss: 0.0571 - val_accuracy: 0.9160 - val_loss: 0.2733\n",
            "Epoch 7/10\n",
            "\u001b[1m500/500\u001b[0m \u001b[32m━━━━━━━━━━━━━━━━━━━━\u001b[0m\u001b[37m\u001b[0m \u001b[1m8s\u001b[0m 16ms/step - accuracy: 0.9835 - loss: 0.0479 - val_accuracy: 0.9145 - val_loss: 0.2780\n",
            "Epoch 8/10\n",
            "\u001b[1m500/500\u001b[0m \u001b[32m━━━━━━━━━━━━━━━━━━━━\u001b[0m\u001b[37m\u001b[0m \u001b[1m6s\u001b[0m 13ms/step - accuracy: 0.9872 - loss: 0.0340 - val_accuracy: 0.9200 - val_loss: 0.2978\n",
            "Epoch 9/10\n",
            "\u001b[1m500/500\u001b[0m \u001b[32m━━━━━━━━━━━━━━━━━━━━\u001b[0m\u001b[37m\u001b[0m \u001b[1m6s\u001b[0m 11ms/step - accuracy: 0.9913 - loss: 0.0229 - val_accuracy: 0.9115 - val_loss: 0.3437\n",
            "Epoch 10/10\n",
            "\u001b[1m500/500\u001b[0m \u001b[32m━━━━━━━━━━━━━━━━━━━━\u001b[0m\u001b[37m\u001b[0m \u001b[1m11s\u001b[0m 14ms/step - accuracy: 0.9872 - loss: 0.0413 - val_accuracy: 0.9160 - val_loss: 0.3427\n"
          ]
        }
      ]
    },
    {
      "cell_type": "markdown",
      "source": [
        "**Evaluate LSTM Model**\n",
        "\n"
      ],
      "metadata": {
        "id": "ushqoAmcyjw2"
      }
    },
    {
      "cell_type": "code",
      "source": [
        "y_pred_lstm = lstm_model.predict(X_validation_seq).argmax(axis=1)\n",
        "print(\"LSTM Model Accuracy on Validation Set:\", accuracy_score(validation_data[\"label\"], y_pred_lstm))\n",
        "print(classification_report(validation_data[\"label\"], y_pred_lstm, target_names=label_encoder.classes_))"
      ],
      "metadata": {
        "colab": {
          "base_uri": "https://localhost:8080/"
        },
        "id": "rWi7HAlaymR5",
        "outputId": "faed80e1-e4f4-4d91-8940-52b4fde64a5b"
      },
      "execution_count": 32,
      "outputs": [
        {
          "output_type": "stream",
          "name": "stdout",
          "text": [
            "\u001b[1m63/63\u001b[0m \u001b[32m━━━━━━━━━━━━━━━━━━━━\u001b[0m\u001b[37m\u001b[0m \u001b[1m1s\u001b[0m 7ms/step\n",
            "LSTM Model Accuracy on Validation Set: 0.926\n",
            "              precision    recall  f1-score   support\n",
            "\n",
            "       anger       0.94      0.94      0.94       275\n",
            "        fear       0.91      0.86      0.89       212\n",
            "         joy       0.93      0.95      0.94       704\n",
            "        love       0.84      0.84      0.84       178\n",
            "     sadness       0.96      0.95      0.96       550\n",
            "    surprise       0.81      0.86      0.84        81\n",
            "\n",
            "    accuracy                           0.93      2000\n",
            "   macro avg       0.90      0.90      0.90      2000\n",
            "weighted avg       0.93      0.93      0.93      2000\n",
            "\n"
          ]
        }
      ]
    },
    {
      "cell_type": "code",
      "source": [
        "y_pred_lstm = lstm_model.predict(X_validation_seq).argmax(axis=1)\n",
        "cm = confusion_matrix(validation_data[\"label\"], y_pred_lstm)\n",
        "sns.heatmap(cm, annot=True, fmt=\"d\", cmap=\"Blues\", xticklabels=label_encoder.classes_, yticklabels=label_encoder.classes_)\n",
        "plt.xlabel(\"Predicted\")\n",
        "plt.ylabel(\"True\")\n",
        "plt.title(\"Confusion Matrix for LSTM Model\")\n",
        "plt.show()"
      ],
      "metadata": {
        "colab": {
          "base_uri": "https://localhost:8080/",
          "height": 490
        },
        "id": "GI-2zq7VE2Rl",
        "outputId": "d36e9bd5-8691-46a5-9a08-ca354a13b7d2"
      },
      "execution_count": 33,
      "outputs": [
        {
          "output_type": "stream",
          "name": "stdout",
          "text": [
            "\u001b[1m63/63\u001b[0m \u001b[32m━━━━━━━━━━━━━━━━━━━━\u001b[0m\u001b[37m\u001b[0m \u001b[1m0s\u001b[0m 4ms/step\n"
          ]
        },
        {
          "output_type": "display_data",
          "data": {
            "text/plain": [
              "<Figure size 640x480 with 2 Axes>"
            ],
            "image/png": "[encoded data removed]"
          },
          "metadata": {}
        }
      ]
    },
    {
      "cell_type": "code",
      "source": [
        "# Plot Accuracy\n",
        "plt.plot(history_lstm.history['accuracy'], label='Train Accuracy')\n",
        "plt.plot(history_lstm.history['val_accuracy'], label='Validation Accuracy')\n",
        "plt.title('LSTM Model Accuracy')\n",
        "plt.xlabel('Epochs')\n",
        "plt.ylabel('Accuracy')\n",
        "plt.legend()\n",
        "plt.show()\n",
        "\n",
        "# Plot Loss\n",
        "plt.plot(history_lstm.history['loss'], label='Train Loss')\n",
        "plt.plot(history_lstm.history['val_loss'], label='Validation Loss')\n",
        "plt.title('LSTM Model Loss')\n",
        "plt.xlabel('Epochs')\n",
        "plt.ylabel('Loss')\n",
        "plt.legend()\n",
        "plt.show()\n"
      ],
      "metadata": {
        "colab": {
          "base_uri": "https://localhost:8080/",
          "height": 927
        },
        "id": "xSZ8DrGPE5dh",
        "outputId": "02e0a8e7-033d-4458-dbee-b9d4c4ea422b"
      },
      "execution_count": 34,
      "outputs": [
        {
          "output_type": "display_data",
          "data": {
            "text/plain": [
              "<Figure size 640x480 with 1 Axes>"
            ],
            "image/png": "[encoded data removed]"
          },
          "metadata": {}
        },
        {
          "output_type": "display_data",
          "data": {
            "text/plain": [
              "<Figure size 640x480 with 1 Axes>"
            ],
            "image/png": "[encoded data removed]"
          },
          "metadata": {}
        }
      ]
    },
    {
      "cell_type": "markdown",
      "source": [
        "## **Model 3 - Fine-Tuned Transformer (BERT)**\n",
        "\n",
        "Load Pretrained Transformer"
      ],
      "metadata": {
        "id": "_V3zd_82yo3P"
      }
    },
    {
      "cell_type": "code",
      "source": [
        "model_name = \"bert-base-uncased\"\n",
        "tokenizer = AutoTokenizer.from_pretrained(model_name)\n",
        "bert_model = AutoModelForSequenceClassification.from_pretrained(model_name, num_labels=num_classes)"
      ],
      "metadata": {
        "colab": {
          "base_uri": "https://localhost:8080/",
          "height": 340,
          "referenced_widgets": [
            "d11b35a7e4584d15ae3b6c8c059d84e9",
            "1a43b7a53f72469e8499f17260e44979",
            "b5352ef782664481ae7bfe1affcc26c4",
            "266a06f6dfb340528b7e5178b341af6d",
            "987a03f9e23c4b45839208c4b2db69fe",
            "4189e462aff64b939a3ca82b341c60bd",
            "a054fda2d2ef43c0a16446f59889a184",
            "6b59a36afe21410fa4f4131b60d7fa98",
            "6c0cfd7eb93a4ac8ac295bf6ad02d8ca",
            "4323143ce0394aaa81fb9af65a7e418e",
            "c85bb40a332c41b7ab7b0961bff2ed1f",
            "9bfed28e1ba443b2a8347dde87e0b7bc",
            "c95c2d1ecb2c40069ee4648a59fe50fd",
            "6175a0cae04845df8afef7f29efcb59c",
            "83e865da6c3b426582c65b9439b14842",
            "1d460b95ace944e0b090af75ea4a9a73",
            "1864565146264388aa9e98a5ced38373",
            "729f677db0ff43e986bece529998ea8e",
            "eacca7bb2b25439eb032229b48f36661",
            "540ad9ce38644c189c7deb9eb1981067",
            "909c7a554fa443248e4971b6bb126a2f",
            "f264af0c2c3747238840ca5fafffe184",
            "45093557b3bd4f0489c3e73e858ef978",
            "b04420495a7c476280e19b05af70a704",
            "b95c5ea734bf438d97ee15119d6e0f82",
            "c7bf9cedb3144126a88b66b17cc89b9a",
            "b578dfc8b4e546518ca6d9dd4e759d69",
            "67fbbf6af0c84a7a9d95e6c4f232dac0",
            "c04bb9cff00b4222a55ef0c57304e8ce",
            "8aeb9dd66fd14380a922f7728aff2505",
            "f7893da28af04541a37377f843dd8c84",
            "0551ca4b4d7344ac97526f40b226f460",
            "97b756757b0b4acb928fe81748a0c82c",
            "613d9d486a384028a21d0ab4fb69fd71",
            "eadf24d924bc4dafb25d7d0ec06954e6",
            "73fe2e0cd39444269e75da1d1f7ce69e",
            "62713e86ba5147388860ab75ee3bd9e5",
            "1c8e749a50b0449aaccde64876f2215d",
            "bba4c98c0e08488592a111de9a571381",
            "ca6b74b7acf94489b73905532db3fa35",
            "d3c3888968ca40e2919e5f05d5164298",
            "9b685ec7bfe343cb964853d97e67009e",
            "3cf597bd91804d7391e0694b84292072",
            "e68816c51024445fb3476a147c6f0962",
            "252076d09a7d41e4b115420748bd5c86",
            "5280f2bf658f4a859abcbe0e5c4c7d3e",
            "757c7238f29649fe90b6a68d1a2971e3",
            "e14dda23b4f5442ab0eb371fcf614568",
            "3490b29aac924ff7bfcc18491b18051c",
            "0d28bb8699524917b79c40cca1066149",
            "c1d56ade5c7045d1bd6e77d1234792c9",
            "c3b180634839441e8ae63ce79edc6b70",
            "eb2a1c50ce544dc19008c609d86ee5cb",
            "543088c8c42d400a977e78dfe9943784",
            "297317ccc42a48faa38213bfd6a398da"
          ]
        },
        "id": "w6u3BMAFyuD-",
        "outputId": "8d200cc8-a3e2-4aeb-d72a-fe1a7afde645"
      },
      "execution_count": 14,
      "outputs": [
        {
          "output_type": "stream",
          "name": "stderr",
          "text": [
            "/usr/local/lib/python3.11/dist-packages/huggingface_hub/utils/_auth.py:94: UserWarning: \n",
            "The secret `HF_TOKEN` does not exist in your Colab secrets.\n",
            "To authenticate with the Hugging Face Hub, create a token in your settings tab (https://huggingface.co/settings/tokens), set it as secret in your Google Colab and restart your session.\n",
            "You will be able to reuse this secret in all of your notebooks.\n",
            "Please note that authentication is recommended but still optional to access public models or datasets.\n",
            "  warnings.warn(\n"
          ]
        },
        {
          "output_type": "display_data",
          "data": {
            "text/plain": [
              "tokenizer_config.json:   0%|          | 0.00/48.0 [00:00<?, ?B/s]"
            ],
            "application/vnd.jupyter.widget-view+json": {
              "version_major": 2,
              "version_minor": 0,
              "model_id": "d11b35a7e4584d15ae3b6c8c059d84e9"
            }
          },
          "metadata": {}
        },
        {
          "output_type": "display_data",
          "data": {
            "text/plain": [
              "config.json:   0%|          | 0.00/570 [00:00<?, ?B/s]"
            ],
            "application/vnd.jupyter.widget-view+json": {
              "version_major": 2,
              "version_minor": 0,
              "model_id": "9bfed28e1ba443b2a8347dde87e0b7bc"
            }
          },
          "metadata": {}
        },
        {
          "output_type": "display_data",
          "data": {
            "text/plain": [
              "vocab.txt:   0%|          | 0.00/232k [00:00<?, ?B/s]"
            ],
            "application/vnd.jupyter.widget-view+json": {
              "version_major": 2,
              "version_minor": 0,
              "model_id": "45093557b3bd4f0489c3e73e858ef978"
            }
          },
          "metadata": {}
        },
        {
          "output_type": "display_data",
          "data": {
            "text/plain": [
              "tokenizer.json:   0%|          | 0.00/466k [00:00<?, ?B/s]"
            ],
            "application/vnd.jupyter.widget-view+json": {
              "version_major": 2,
              "version_minor": 0,
              "model_id": "613d9d486a384028a21d0ab4fb69fd71"
            }
          },
          "metadata": {}
        },
        {
          "output_type": "display_data",
          "data": {
            "text/plain": [
              "model.safetensors:   0%|          | 0.00/440M [00:00<?, ?B/s]"
            ],
            "application/vnd.jupyter.widget-view+json": {
              "version_major": 2,
              "version_minor": 0,
              "model_id": "252076d09a7d41e4b115420748bd5c86"
            }
          },
          "metadata": {}
        },
        {
          "output_type": "stream",
          "name": "stderr",
          "text": [
            "Some weights of BertForSequenceClassification were not initialized from the model checkpoint at bert-base-uncased and are newly initialized: ['classifier.bias', 'classifier.weight']\n",
            "You should probably TRAIN this model on a down-stream task to be able to use it for predictions and inference.\n"
          ]
        }
      ]
    },
    {
      "cell_type": "markdown",
      "source": [
        "Tokenize Input Text"
      ],
      "metadata": {
        "id": "P7WvDEjWywNG"
      }
    },
    {
      "cell_type": "code",
      "source": [
        "import torch\n",
        "\n",
        "class NLPDataset(torch.utils.data.Dataset):\n",
        "    def __init__(self, texts, labels, tokenizer, max_length=100):\n",
        "        self.encodings = tokenizer(texts.tolist(), truncation=True, padding=True, max_length=max_length)\n",
        "        self.labels = labels.tolist()\n",
        "\n",
        "    def __getitem__(self, idx):\n",
        "        item = {key: torch.tensor(val[idx]) for key, val in self.encodings.items()}\n",
        "        item[\"labels\"] = torch.tensor(self.labels[idx])\n",
        "        return item\n",
        "\n",
        "    def __len__(self):\n",
        "        return len(self.labels)\n"
      ],
      "metadata": {
        "id": "_mtt8mTryxvt"
      },
      "execution_count": 15,
      "outputs": []
    },
    {
      "cell_type": "markdown",
      "source": [
        "Convert Text Data into Dataset Format\n",
        "\n",
        "\n"
      ],
      "metadata": {
        "id": "0pAOmU437Ctu"
      }
    },
    {
      "cell_type": "code",
      "source": [
        "train_dataset = NLPDataset(train_data[\"text\"], train_data[\"label\"], tokenizer)\n",
        "test_dataset = NLPDataset(test_data[\"text\"], test_data[\"label\"], tokenizer)\n",
        "validation_dataset = NLPDataset(validation_data[\"text\"], validation_data[\"label\"], tokenizer)"
      ],
      "metadata": {
        "id": "2dMI6iww7DBl"
      },
      "execution_count": 16,
      "outputs": []
    },
    {
      "cell_type": "markdown",
      "source": [
        "Define Training Arguments"
      ],
      "metadata": {
        "id": "5-KI8Vcry1HH"
      }
    },
    {
      "cell_type": "code",
      "source": [
        "training_args = TrainingArguments(\n",
        "    output_dir=\"./results\",\n",
        "    evaluation_strategy=\"epoch\",\n",
        "    per_device_train_batch_size=128,\n",
        "    per_device_eval_batch_size=64,\n",
        "    num_train_epochs=3,\n",
        "    weight_decay=0.01,\n",
        "    logging_dir=\"./logs\",\n",
        ")"
      ],
      "metadata": {
        "colab": {
          "base_uri": "https://localhost:8080/"
        },
        "id": "BRQW66PZy15N",
        "outputId": "9df37fd4-835d-4ac4-93ff-4bb3933f40ae"
      },
      "execution_count": 17,
      "outputs": [
        {
          "output_type": "stream",
          "name": "stderr",
          "text": [
            "/usr/local/lib/python3.11/dist-packages/transformers/training_args.py:1575: FutureWarning: `evaluation_strategy` is deprecated and will be removed in version 4.46 of 🤗 Transformers. Use `eval_strategy` instead\n",
            "  warnings.warn(\n"
          ]
        }
      ]
    },
    {
      "cell_type": "markdown",
      "source": [
        "Train Transformer Model"
      ],
      "metadata": {
        "id": "0caPj2ney5Ou"
      }
    },
    {
      "cell_type": "code",
      "source": [
        "trainer = Trainer(\n",
        "    model=bert_model,\n",
        "    args=training_args,\n",
        "    train_dataset=train_dataset,\n",
        "    eval_dataset=test_dataset,\n",
        ")\n"
      ],
      "metadata": {
        "id": "8VZTbwcby7Gy"
      },
      "execution_count": 18,
      "outputs": []
    },
    {
      "cell_type": "markdown",
      "source": [
        "Evaluate Transformer Model\n"
      ],
      "metadata": {
        "id": "fw5uuYCiy-AC"
      }
    },
    {
      "cell_type": "code",
      "source": [
        "trainer.train()\n",
        "trainer.evaluate(validation_dataset)"
      ],
      "metadata": {
        "colab": {
          "base_uri": "https://localhost:8080/",
          "height": 511
        },
        "id": "HG2zchIAy_TF",
        "outputId": "18478866-28e6-41e6-e818-b8e8c3121399"
      },
      "execution_count": 19,
      "outputs": [
        {
          "output_type": "stream",
          "name": "stderr",
          "text": [
            "\u001b[34m\u001b[1mwandb\u001b[0m: \u001b[33mWARNING\u001b[0m The `run_name` is currently set to the same value as `TrainingArguments.output_dir`. If this was not intended, please specify a different run name by setting the `TrainingArguments.run_name` parameter.\n"
          ]
        },
        {
          "output_type": "display_data",
          "data": {
            "text/plain": [
              "<IPython.core.display.Javascript object>"
            ],
            "application/javascript": [
              "\n",
              "        window._wandbApiKey = new Promise((resolve, reject) => {\n",
              "            function loadScript(url) {\n",
              "            return new Promise(function(resolve, reject) {\n",
              "                let newScript = document.createElement(\"script\");\n",
              "                newScript.onerror = reject;\n",
              "                newScript.onload = resolve;\n",
              "                document.body.appendChild(newScript);\n",
              "                newScript.src = url;\n",
              "            });\n",
              "            }\n",
              "            loadScript(\"https://cdn.jsdelivr.net/npm/postmate/build/postmate.min.js\").then(() => {\n",
              "            const iframe = document.createElement('iframe')\n",
              "            iframe.style.cssText = \"width:0;height:0;border:none\"\n",
              "            document.body.appendChild(iframe)\n",
              "            const handshake = new Postmate({\n",
              "                container: iframe,\n",
              "                url: 'https://wandb.ai/authorize'\n",
              "            });\n",
              "            const timeout = setTimeout(() => reject(\"Couldn't auto authenticate\"), 5000)\n",
              "            handshake.then(function(child) {\n",
              "                child.on('authorize', data => {\n",
              "                    clearTimeout(timeout)\n",
              "                    resolve(data)\n",
              "                });\n",
              "            });\n",
              "            })\n",
              "        });\n",
              "    "
            ]
          },
          "metadata": {}
        },
        {
          "output_type": "stream",
          "name": "stderr",
          "text": [
            "\u001b[34m\u001b[1mwandb\u001b[0m: \u001b[33mWARNING\u001b[0m If you're specifying your api key in code, ensure this code is not shared publicly.\n",
            "\u001b[34m\u001b[1mwandb\u001b[0m: \u001b[33mWARNING\u001b[0m Consider setting the WANDB_API_KEY environment variable, or running `wandb login` from the command line.\n",
            "\u001b[34m\u001b[1mwandb\u001b[0m: Appending key for api.wandb.ai to your netrc file: /root/.netrc\n",
            "\u001b[34m\u001b[1mwandb\u001b[0m: Currently logged in as: \u001b[33mjithinthomas7171\u001b[0m (\u001b[33mjithinthomas7171-epita\u001b[0m) to \u001b[32mhttps://api.wandb.ai\u001b[0m. Use \u001b[1m`wandb login --relogin`\u001b[0m to force relogin\n",
            "\u001b[34m\u001b[1mwandb\u001b[0m: Using wandb-core as the SDK backend.  Please refer to https://wandb.me/wandb-core for more information.\n"
          ]
        },
        {
          "output_type": "display_data",
          "data": {
            "text/plain": [
              "<IPython.core.display.HTML object>"
            ],
            "text/html": [
              "Tracking run with wandb version 0.19.5"
            ]
          },
          "metadata": {}
        },
        {
          "output_type": "display_data",
          "data": {
            "text/plain": [
              "<IPython.core.display.HTML object>"
            ],
            "text/html": [
              "Run data is saved locally in <code>/content/wandb/run-20250201_102712-ijjw0wob</code>"
            ]
          },
          "metadata": {}
        },
        {
          "output_type": "display_data",
          "data": {
            "text/plain": [
              "<IPython.core.display.HTML object>"
            ],
            "text/html": [
              "Syncing run <strong><a href='https://wandb.ai/jithinthomas7171-epita/huggingface/runs/ijjw0wob' target=\"_blank\">./results</a></strong> to <a href='https://wandb.ai/jithinthomas7171-epita/huggingface' target=\"_blank\">Weights & Biases</a> (<a href='https://wandb.me/developer-guide' target=\"_blank\">docs</a>)<br>"
            ]
          },
          "metadata": {}
        },
        {
          "output_type": "display_data",
          "data": {
            "text/plain": [
              "<IPython.core.display.HTML object>"
            ],
            "text/html": [
              " View project at <a href='https://wandb.ai/jithinthomas7171-epita/huggingface' target=\"_blank\">https://wandb.ai/jithinthomas7171-epita/huggingface</a>"
            ]
          },
          "metadata": {}
        },
        {
          "output_type": "display_data",
          "data": {
            "text/plain": [
              "<IPython.core.display.HTML object>"
            ],
            "text/html": [
              " View run at <a href='https://wandb.ai/jithinthomas7171-epita/huggingface/runs/ijjw0wob' target=\"_blank\">https://wandb.ai/jithinthomas7171-epita/huggingface/runs/ijjw0wob</a>"
            ]
          },
          "metadata": {}
        },
        {
          "output_type": "display_data",
          "data": {
            "text/plain": [
              "<IPython.core.display.HTML object>"
            ],
            "text/html": [
              "\n",
              "    <div>\n",
              "      \n",
              "      <progress value='375' max='375' style='width:300px; height:20px; vertical-align: middle;'></progress>\n",
              "      [375/375 10:40, Epoch 3/3]\n",
              "    </div>\n",
              "    <table border=\"1\" class=\"dataframe\">\n",
              "  <thead>\n",
              " <tr style=\"text-align: left;\">\n",
              "      <th>Epoch</th>\n",
              "      <th>Training Loss</th>\n",
              "      <th>Validation Loss</th>\n",
              "    </tr>\n",
              "  </thead>\n",
              "  <tbody>\n",
              "    <tr>\n",
              "      <td>1</td>\n",
              "      <td>No log</td>\n",
              "      <td>0.212309</td>\n",
              "    </tr>\n",
              "    <tr>\n",
              "      <td>2</td>\n",
              "      <td>No log</td>\n",
              "      <td>0.173973</td>\n",
              "    </tr>\n",
              "    <tr>\n",
              "      <td>3</td>\n",
              "      <td>No log</td>\n",
              "      <td>0.157048</td>\n",
              "    </tr>\n",
              "  </tbody>\n",
              "</table><p>"
            ]
          },
          "metadata": {}
        },
        {
          "output_type": "display_data",
          "data": {
            "text/plain": [
              "<IPython.core.display.HTML object>"
            ],
            "text/html": [
              "\n",
              "    <div>\n",
              "      \n",
              "      <progress value='32' max='32' style='width:300px; height:20px; vertical-align: middle;'></progress>\n",
              "      [32/32 00:07]\n",
              "    </div>\n",
              "    "
            ]
          },
          "metadata": {}
        },
        {
          "output_type": "execute_result",
          "data": {
            "text/plain": [
              "{'eval_loss': 0.13573846220970154,\n",
              " 'eval_runtime': 7.2427,\n",
              " 'eval_samples_per_second': 276.139,\n",
              " 'eval_steps_per_second': 4.418,\n",
              " 'epoch': 3.0}"
            ]
          },
          "metadata": {},
          "execution_count": 19
        }
      ]
    },
    {
      "cell_type": "code",
      "source": [
        "# Get predictions from the BERT model\n",
        "predictions = trainer.predict(validation_dataset)\n",
        "\n",
        "# Convert logits to class predictions\n",
        "y_pred_bert = np.argmax(predictions.predictions, axis=1)\n"
      ],
      "metadata": {
        "colab": {
          "base_uri": "https://localhost:8080/",
          "height": 17
        },
        "id": "P-SNK181Lrr6",
        "outputId": "26fab74b-8e14-42be-93ee-a9612c26199b"
      },
      "execution_count": 42,
      "outputs": [
        {
          "output_type": "display_data",
          "data": {
            "text/plain": [
              "<IPython.core.display.HTML object>"
            ],
            "text/html": []
          },
          "metadata": {}
        }
      ]
    },
    {
      "cell_type": "code",
      "source": [
        "from sklearn.metrics import classification_report\n",
        "\n",
        "print(\"BERT Model Classification Report on Validation Set:\")\n",
        "print(classification_report(validation_data[\"label\"], y_pred_bert, target_names=label_encoder.classes_))\n"
      ],
      "metadata": {
        "colab": {
          "base_uri": "https://localhost:8080/"
        },
        "id": "77mqGNc-LwYd",
        "outputId": "3f5abe12-51a2-46f5-e9c5-50f3d6b90fe7"
      },
      "execution_count": 43,
      "outputs": [
        {
          "output_type": "stream",
          "name": "stdout",
          "text": [
            "BERT Model Classification Report on Validation Set:\n",
            "              precision    recall  f1-score   support\n",
            "\n",
            "       anger       0.95      0.95      0.95       275\n",
            "        fear       0.87      0.92      0.90       212\n",
            "         joy       0.95      0.97      0.96       704\n",
            "        love       0.91      0.87      0.89       178\n",
            "     sadness       0.97      0.97      0.97       550\n",
            "    surprise       0.90      0.77      0.83        81\n",
            "\n",
            "    accuracy                           0.94      2000\n",
            "   macro avg       0.93      0.91      0.91      2000\n",
            "weighted avg       0.94      0.94      0.94      2000\n",
            "\n"
          ]
        }
      ]
    },
    {
      "cell_type": "code",
      "source": [
        "import seaborn as sns\n",
        "import matplotlib.pyplot as plt\n",
        "from sklearn.metrics import confusion_matrix\n",
        "\n",
        "# Compute confusion matrix\n",
        "cm_bert = confusion_matrix(validation_data[\"label\"], y_pred_bert)\n",
        "\n",
        "# Plot confusion matrix\n",
        "plt.figure(figsize=(6,4))\n",
        "sns.heatmap(cm_bert, annot=True, fmt=\"d\", cmap=\"Blues\", xticklabels=label_encoder.classes_, yticklabels=label_encoder.classes_)\n",
        "plt.xlabel(\"Predicted Label\")\n",
        "plt.ylabel(\"True Label\")\n",
        "plt.title(\"Confusion Matrix for BERT Model\")\n",
        "plt.show()\n"
      ],
      "metadata": {
        "colab": {
          "base_uri": "https://localhost:8080/",
          "height": 410
        },
        "id": "RGytoDGJLzUd",
        "outputId": "4e82b334-db85-4978-b343-8beaef86c392"
      },
      "execution_count": 49,
      "outputs": [
        {
          "output_type": "display_data",
          "data": {
            "text/plain": [
              "<Figure size 600x400 with 2 Axes>"
            ],
            "image/png": "[encoded data removed]"
          },
          "metadata": {}
        }
      ]
    },
    {
      "cell_type": "markdown",
      "source": [
        "**Compare All Models**"
      ],
      "metadata": {
        "id": "IbFrhrbqzCg6"
      }
    },
    {
      "cell_type": "code",
      "source": [
        "print(\"Final Model Comparison on Validation Set:\")\n",
        "print(f\"FCNN Accuracy: {accuracy_score(validation_data['label'], y_pred_fcnn):.4f}\")\n",
        "print(f\"LSTM Accuracy: {accuracy_score(validation_data['label'], y_pred_lstm):.4f}\")"
      ],
      "metadata": {
        "colab": {
          "base_uri": "https://localhost:8080/"
        },
        "id": "qeYQLWYUzDlc",
        "outputId": "36634ade-5ddb-483a-8016-fb3c490c755e"
      },
      "execution_count": 39,
      "outputs": [
        {
          "output_type": "stream",
          "name": "stdout",
          "text": [
            "Final Model Comparison on Validation Set:\n",
            "FCNN Accuracy: 0.8655\n",
            "LSTM Accuracy: 0.9260\n"
          ]
        }
      ]
    },
    {
      "cell_type": "markdown",
      "source": [
        "## **Final Model Comparison & Insights**\n",
        "\n",
        "We now compare the Fully Connected Neural Network (FCNN) and LSTM models based on their accuracy and loss values."
      ],
      "metadata": {
        "id": "xAnn1bPvHzuZ"
      }
    },
    {
      "cell_type": "markdown",
      "source": [
        "**Model Performance Summary**\n",
        "\n",
        "![Screenshot 2025-02-01 at 11.48.03 AM.png](data:image/png;base64,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)"
      ],
      "metadata": {
        "id": "uFlP2zkuH7YT"
      }
    },
    {
      "cell_type": "markdown",
      "source": [
        "1.   The **LSTM model performs better** than FCNN, achieving a **higher\n",
        "     validation accuracy (92.60%)** compared to FCNN’s **86.55%**.\n",
        "2.   L**FCNN shows signs of overfitting**: High training accuracy (99.56%) but lower validation accuracy (85.45%).\n",
        "3.   **LSTM generalizes better** and maintains a **higher accuracy** on unseen data.\n"
      ],
      "metadata": {
        "id": "9WqFiW65INK0"
      }
    },
    {
      "cell_type": "markdown",
      "source": [
        "**Insights from the Comparison**\n",
        "\n",
        "1️⃣ **Why LSTM Performed Better**\n",
        "\n",
        "    LSTM models capture sequential dependencies in text.\n",
        "\n",
        "    They are more effective in contextual learning than simple FCNN models, which treat text as independent features.\n",
        "\n",
        "    LSTM has better generalization, maintaining higher accuracy on unseen validation data.\n",
        "\n",
        "2️⃣ **Why FCNN Underperformed**\n",
        "\n",
        "    Fully Connected Neural Networks (FCNNs) rely on TF-IDF vectorization, which does not capture word order or semantic relationships.\n",
        "\n",
        "    Overfitting occurred, where the model memorized the training data instead of learning generalizable patterns."
      ],
      "metadata": {
        "id": "elzPzJUzIujd"
      }
    },
    {
      "cell_type": "markdown",
      "source": [
        "\n",
        "## **Approach for Another Text Classification Use Case**\n",
        "For a new text classification task, I would follow these structured steps:\n",
        "\n",
        "1️⃣ **Understand the Data**\n",
        "\n",
        "    Load and explore the dataset.\n",
        "    Check class distribution & text length.\n",
        "\n",
        "2️⃣ **Preprocess the Text**\n",
        "\n",
        "    Tokenization, stopword removal, stemming/lemmatization.\n",
        "    Convert text into numerical format (TF-IDF, word embeddings).\n",
        "\n",
        "3️⃣ **Select the Right Model**\n",
        "\n",
        "    Simple tasks → Logistic Regression / FCNN (with TF-IDF).\n",
        "    Sequence-based tasks → LSTM / BiLSTM with word embeddings.\n",
        "    Complex NLP tasks → Transformer-based models (BERT, RoBERTa).\n",
        "\n",
        "4️⃣ **Train & Tune the Model**\n",
        "\n",
        "    Train on labeled data with appropriate hyperparameters.\n",
        "    Use validation set for model selection.\n",
        "\n",
        "5️⃣ **Evaluate & Optimize**\n",
        "\n",
        "    Analyze confusion matrix, accuracy, and loss curves.\n",
        "    Fine-tune model (e.g., adjust learning rate, add attention layers).\n",
        "6️⃣ **Deploy & Monitor**\n",
        "\n",
        "    Convert model to an API for real-world use.\n",
        "    Monitor performance & retrain with new data if needed."
      ],
      "metadata": {
        "id": "JD1FNbCfJVoH"
      }
    },
    {
      "cell_type": "code",
      "source": [],
      "metadata": {
        "id": "7Ks7qOohIvHV"
      },
      "execution_count": null,
      "outputs": []
    }
  ]
}