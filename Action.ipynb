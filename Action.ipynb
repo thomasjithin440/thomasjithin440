{
  "nbformat": 4,
  "nbformat_minor": 0,
  "metadata": {
    "colab": {
      "provenance": [],
      "authorship_tag": "ABX9TyPLHj5NLIb7iHQsdhkZU2Ri",
      "include_colab_link": true
    },
    "kernelspec": {
      "name": "python3",
      "display_name": "Python 3"
    },
    "language_info": {
      "name": "python"
    }
  },
  "cells": [
    {
      "cell_type": "markdown",
      "metadata": {
        "id": "view-in-github",
        "colab_type": "text"
      },
      "source": [
        "<a href=\"https://colab.research.google.com/github/thomasjithin440/thomasjithin440/blob/main/Action.ipynb\" target=\"_parent\"><img src=\"https://colab.research.google.com/assets/colab-badge.svg\" alt=\"Open In Colab\"/></a>"
      ]
    },
    {
      "cell_type": "code",
      "source": [
        "!pip install pyfluidsynth\n",
        "!fluidsynth --version\n"
      ],
      "metadata": {
        "colab": {
          "base_uri": "https://localhost:8080/"
        },
        "id": "PcKRtcIQDvl_",
        "outputId": "55d2e2da-0473-49b6-89cb-c19563ac6ef2"
      },
      "execution_count": 5,
      "outputs": [
        {
          "output_type": "stream",
          "name": "stdout",
          "text": [
            "Requirement already satisfied: pyfluidsynth in /usr/local/lib/python3.10/dist-packages (1.3.4)\n",
            "Requirement already satisfied: numpy in /usr/local/lib/python3.10/dist-packages (from pyfluidsynth) (1.26.4)\n",
            "/bin/bash: line 1: fluidsynth: command not found\n"
          ]
        }
      ]
    },
    {
      "cell_type": "code",
      "execution_count": 6,
      "metadata": {
        "colab": {
          "base_uri": "https://localhost:8080/",
          "height": 542
        },
        "id": "2E8g6r_KCvXs",
        "outputId": "c4abf767-6e96-4296-da5a-b0cbda0da4b9"
      },
      "outputs": [
        {
          "output_type": "error",
          "ename": "ImportError",
          "evalue": "Couldn't find the FluidSynth library.",
          "traceback": [
            "\u001b[0;31m---------------------------------------------------------------------------\u001b[0m",
            "\u001b[0;31mImportError\u001b[0m                               Traceback (most recent call last)",
            "\u001b[0;32m<ipython-input-6-58383464bed6>\u001b[0m in \u001b[0;36m<cell line: 11>\u001b[0;34m()\u001b[0m\n\u001b[1;32m      9\u001b[0m \u001b[0;32mfrom\u001b[0m \u001b[0mtransformers\u001b[0m \u001b[0;32mimport\u001b[0m \u001b[0mAutoTokenizer\u001b[0m\u001b[0;34m,\u001b[0m \u001b[0mAutoModel\u001b[0m\u001b[0;34m\u001b[0m\u001b[0;34m\u001b[0m\u001b[0m\n\u001b[1;32m     10\u001b[0m \u001b[0;32mimport\u001b[0m \u001b[0mpretty_midi\u001b[0m\u001b[0;34m\u001b[0m\u001b[0;34m\u001b[0m\u001b[0m\n\u001b[0;32m---> 11\u001b[0;31m \u001b[0;32mimport\u001b[0m \u001b[0mfluidsynth\u001b[0m\u001b[0;34m\u001b[0m\u001b[0;34m\u001b[0m\u001b[0m\n\u001b[0m\u001b[1;32m     12\u001b[0m \u001b[0;32mimport\u001b[0m \u001b[0msoundfile\u001b[0m \u001b[0;32mas\u001b[0m \u001b[0msf\u001b[0m\u001b[0;34m\u001b[0m\u001b[0;34m\u001b[0m\u001b[0m\n\u001b[1;32m     13\u001b[0m \u001b[0;32mfrom\u001b[0m \u001b[0mIPython\u001b[0m\u001b[0;34m.\u001b[0m\u001b[0mdisplay\u001b[0m \u001b[0;32mimport\u001b[0m \u001b[0mAudio\u001b[0m\u001b[0;34m\u001b[0m\u001b[0;34m\u001b[0m\u001b[0m\n",
            "\u001b[0;32m/usr/local/lib/python3.10/dist-packages/fluidsynth.py\u001b[0m in \u001b[0;36m<module>\u001b[0;34m\u001b[0m\n\u001b[1;32m     80\u001b[0m     \u001b[0;32mraise\u001b[0m \u001b[0mImportError\u001b[0m\u001b[0;34m(\u001b[0m\u001b[0;34m\"Couldn't find the FluidSynth library.\"\u001b[0m\u001b[0;34m)\u001b[0m\u001b[0;34m\u001b[0m\u001b[0;34m\u001b[0m\u001b[0m\n\u001b[1;32m     81\u001b[0m \u001b[0;34m\u001b[0m\u001b[0m\n\u001b[0;32m---> 82\u001b[0;31m \u001b[0mlib\u001b[0m \u001b[0;34m=\u001b[0m \u001b[0mload_libfluidsynth\u001b[0m\u001b[0;34m(\u001b[0m\u001b[0;34m)\u001b[0m\u001b[0;34m\u001b[0m\u001b[0;34m\u001b[0m\u001b[0m\n\u001b[0m\u001b[1;32m     83\u001b[0m \u001b[0;34m\u001b[0m\u001b[0m\n\u001b[1;32m     84\u001b[0m \u001b[0;31m# Dynamically link the FluidSynth library\u001b[0m\u001b[0;34m\u001b[0m\u001b[0;34m\u001b[0m\u001b[0m\n",
            "\u001b[0;32m/usr/local/lib/python3.10/dist-packages/fluidsynth.py\u001b[0m in \u001b[0;36mload_libfluidsynth\u001b[0;34m(debug_print)\u001b[0m\n\u001b[1;32m     78\u001b[0m             \u001b[0;32mreturn\u001b[0m \u001b[0mlib\u001b[0m\u001b[0;34m\u001b[0m\u001b[0;34m\u001b[0m\u001b[0m\n\u001b[1;32m     79\u001b[0m \u001b[0;34m\u001b[0m\u001b[0m\n\u001b[0;32m---> 80\u001b[0;31m     \u001b[0;32mraise\u001b[0m \u001b[0mImportError\u001b[0m\u001b[0;34m(\u001b[0m\u001b[0;34m\"Couldn't find the FluidSynth library.\"\u001b[0m\u001b[0;34m)\u001b[0m\u001b[0;34m\u001b[0m\u001b[0;34m\u001b[0m\u001b[0m\n\u001b[0m\u001b[1;32m     81\u001b[0m \u001b[0;34m\u001b[0m\u001b[0m\n\u001b[1;32m     82\u001b[0m \u001b[0mlib\u001b[0m \u001b[0;34m=\u001b[0m \u001b[0mload_libfluidsynth\u001b[0m\u001b[0;34m(\u001b[0m\u001b[0;34m)\u001b[0m\u001b[0;34m\u001b[0m\u001b[0;34m\u001b[0m\u001b[0m\n",
            "\u001b[0;31mImportError\u001b[0m: Couldn't find the FluidSynth library.",
            "",
            "\u001b[0;31m---------------------------------------------------------------------------\u001b[0;32m\nNOTE: If your import is failing due to a missing package, you can\nmanually install dependencies using either !pip or !apt.\n\nTo view examples of installing some common dependencies, click the\n\"Open Examples\" button below.\n\u001b[0;31m---------------------------------------------------------------------------\u001b[0m\n"
          ],
          "errorDetails": {
            "actions": [
              {
                "action": "open_url",
                "actionText": "Open Examples",
                "url": "/notebooks/snippets/importing_libraries.ipynb"
              }
            ]
          }
        }
      ],
      "source": [
        "# Text-to-Music Generation Project\n",
        "\n",
        "## Step 1: Install Dependencies\n",
        "# Install necessary libraries. Run this cell if you haven’t installed the libraries already.\n",
        "#!pip install transformers torch pretty_midi librosa soundfile pyfluidsynth\n",
        "\n",
        "## Step 2: Import Libraries\n",
        "import torch\n",
        "from transformers import AutoTokenizer, AutoModel\n",
        "import pretty_midi\n",
        "import fluidsynth\n",
        "import soundfile as sf\n",
        "from IPython.display import Audio\n",
        "\n",
        "# Define text to music functions\n",
        "\n",
        "## Step 3: Text Embedding with NLP Model\n",
        "def get_text_embeddings(input_text):\n",
        "    \"\"\"\n",
        "    This function takes an input text and generates embeddings using a pretrained language model.\n",
        "    \"\"\"\n",
        "    # Load a pretrained model and tokenizer\n",
        "    model_name = \"sentence-transformers/all-MiniLM-L6-v2\"\n",
        "    tokenizer = AutoTokenizer.from_pretrained(model_name)\n",
        "    model = AutoModel.from_pretrained(model_name)\n",
        "\n",
        "    # Tokenize input text\n",
        "    inputs = tokenizer(input_text, return_tensors=\"pt\")\n",
        "\n",
        "    # Generate embeddings\n",
        "    with torch.no_grad():\n",
        "        embeddings = model(**inputs).last_hidden_state.mean(dim=1)\n",
        "\n",
        "    return embeddings\n",
        "\n",
        "## Step 4: Generate MIDI from Embeddings\n",
        "def generate_midi(embeddings, output_file=\"output.mid\"):\n",
        "    \"\"\"\n",
        "    Generate MIDI file from text embeddings.\n",
        "\n",
        "    Args:\n",
        "        embeddings (torch.Tensor): Input embeddings generated from the text.\n",
        "        output_file (str): File name for the generated MIDI file.\n",
        "\n",
        "    Returns:\n",
        "        None (saves a MIDI file to disk)\n",
        "    \"\"\"\n",
        "    midi = pretty_midi.PrettyMIDI()\n",
        "    piano_program = pretty_midi.instrument_name_to_program(\"Acoustic Grand Piano\")\n",
        "    piano = pretty_midi.Instrument(program=piano_program)\n",
        "\n",
        "    # Generate notes based on embeddings\n",
        "    for i, embedding in enumerate(embeddings[0]):\n",
        "        note_number = int((embedding.item() + 1) * 36)  # Scale to MIDI note range (0-127)\n",
        "        start_time = i * 0.5\n",
        "        end_time = start_time + 0.5\n",
        "\n",
        "        # Add note to the instrument\n",
        "        note = pretty_midi.Note(velocity=100, pitch=max(0, min(127, note_number)), start=start_time, end=end_time)\n",
        "        piano.notes.append(note)\n",
        "\n",
        "    midi.instruments.append(piano)\n",
        "    midi.write(output_file)\n",
        "\n",
        "## Step 5: Convert MIDI to Audio\n",
        "def midi_to_audio(midi_file, output_audio=\"output.wav\", soundfont=\"default.sf2\"):\n",
        "    \"\"\"\n",
        "    Convert a MIDI file to an audio file using fluidsynth.\n",
        "\n",
        "    Args:\n",
        "        midi_file (str): Path to the input MIDI file.\n",
        "        output_audio (str): Path to save the output audio.\n",
        "        soundfont (str): Path to a .sf2 soundfont file.\n",
        "\n",
        "    Returns:\n",
        "        None (saves an audio file to disk)\n",
        "    \"\"\"\n",
        "    # Use a default soundfont if none provided\n",
        "    if soundfont == \"default.sf2\":\n",
        "        !wget -O default.sf2 https://freepats.zenvoid.org/freepats-general-midi.sf2\n",
        "        soundfont = \"default.sf2\"\n",
        "\n",
        "    # Initialize FluidSynth with the soundfont\n",
        "    fs = fluidsynth.Synth()\n",
        "    fs.start(driver=\"alsa\")\n",
        "    fs.sfload(soundfont)\n",
        "\n",
        "    # Convert MIDI to audio\n",
        "    fs.midi_to_audio(midi_file, output_audio)\n",
        "    fs.delete()\n",
        "\n",
        "## Step 6: Pipeline Function\n",
        "def text_to_music():\n",
        "    \"\"\"\n",
        "    Complete pipeline for text-to-music generation.\n",
        "\n",
        "    Returns:\n",
        "        Audio playback of the generated music.\n",
        "    \"\"\"\n",
        "    input_text = input(\"Enter a description for the music you'd like (e.g., 'Calm and relaxing piano melody'): \")\n",
        "    print(\"Generating text embeddings...\")\n",
        "    embeddings = get_text_embeddings(input_text)\n",
        "\n",
        "    print(\"Generating MIDI file...\")\n",
        "    generate_midi(embeddings, \"generated_music.mid\")\n",
        "\n",
        "    print(\"Converting MIDI to audio...\")\n",
        "    midi_to_audio(\"generated_music.mid\", \"generated_music.wav\")\n",
        "\n",
        "    print(\"Done! Playing audio...\")\n",
        "    return Audio(\"generated_music.wav\", autoplay=True)\n",
        "\n",
        "## Step 7: Run the Pipeline\n",
        "output_audio = text_to_music()\n",
        "output_audio\n"
      ]
    },
    {
      "cell_type": "code",
      "source": [],
      "metadata": {
        "id": "jKCObmcWCv6K"
      },
      "execution_count": null,
      "outputs": []
    }
  ]
}